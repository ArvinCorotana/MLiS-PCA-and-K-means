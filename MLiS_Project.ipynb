{
 "cells": [
  {
   "cell_type": "markdown",
   "metadata": {
    "collapsed": false,
    "jupyter": {
     "outputs_hidden": false
    }
   },
   "source": [
    "<h2 style=\"text-align: center; font-weight: bold; font-family: 'Times New Roman', Times, serif;\">Clustering Analysis of Breast Cancer Wisconsin Data</h2>\n",
    "<p style=\"text-align: center; font-weight: bold; font-family: 'Times New Roman', Times, serif;\">Arvin Corotana and Hamza Elshafie</p>\n",
    "\n",
    "-----"
   ]
  },
  {
   "cell_type": "code",
   "execution_count": 1642,
   "metadata": {},
   "outputs": [
    {
     "name": "stdout",
     "output_type": "stream",
     "text": [
      "Requirement already satisfied: ucimlrepo in /Users/hamzaelshafie/anaconda3/envs/phys4038/lib/python3.10/site-packages (0.0.3)\r\n"
     ]
    }
   ],
   "source": [
    "!pip install ucimlrepo\n",
    "import pandas as pd\n",
    "import numpy as np\n",
    "from sklearn.impute import SimpleImputer\n",
    "from ucimlrepo import fetch_ucirepo\n",
    "\n",
    "dataf = fetch_ucirepo(id=15)\n",
    "X = dataf.data.features\n",
    "y = dataf.data.targets"
   ]
  },
  {
   "attachments": {},
   "cell_type": "markdown",
   "metadata": {},
   "source": [
    "Look for missing data and quick look at data:"
   ]
  },
  {
   "cell_type": "markdown",
   "metadata": {
    "collapsed": false,
    "jupyter": {
     "outputs_hidden": false
    }
   },
   "source": [
    "# 1) Data Preproccessing\n",
    "----"
   ]
  },
  {
   "cell_type": "code",
   "execution_count": 1643,
   "metadata": {},
   "outputs": [
    {
     "data": {
      "text/plain": "   Clump_thickness  Uniformity_of_cell_size  Uniformity_of_cell_shape  \\\n0                5                        1                         1   \n1                5                        4                         4   \n2                3                        1                         1   \n3                6                        8                         8   \n4                4                        1                         1   \n\n   Marginal_adhesion  Single_epithelial_cell_size  Bare_nuclei  \\\n0                  1                            2          1.0   \n1                  5                            7         10.0   \n2                  1                            2          2.0   \n3                  1                            3          4.0   \n4                  3                            2          1.0   \n\n   Bland_chromatin  Normal_nucleoli  Mitoses  \n0                3                1        1  \n1                3                2        1  \n2                3                1        1  \n3                3                7        1  \n4                3                1        1  ",
      "text/html": "<div>\n<style scoped>\n    .dataframe tbody tr th:only-of-type {\n        vertical-align: middle;\n    }\n\n    .dataframe tbody tr th {\n        vertical-align: top;\n    }\n\n    .dataframe thead th {\n        text-align: right;\n    }\n</style>\n<table border=\"1\" class=\"dataframe\">\n  <thead>\n    <tr style=\"text-align: right;\">\n      <th></th>\n      <th>Clump_thickness</th>\n      <th>Uniformity_of_cell_size</th>\n      <th>Uniformity_of_cell_shape</th>\n      <th>Marginal_adhesion</th>\n      <th>Single_epithelial_cell_size</th>\n      <th>Bare_nuclei</th>\n      <th>Bland_chromatin</th>\n      <th>Normal_nucleoli</th>\n      <th>Mitoses</th>\n    </tr>\n  </thead>\n  <tbody>\n    <tr>\n      <th>0</th>\n      <td>5</td>\n      <td>1</td>\n      <td>1</td>\n      <td>1</td>\n      <td>2</td>\n      <td>1.0</td>\n      <td>3</td>\n      <td>1</td>\n      <td>1</td>\n    </tr>\n    <tr>\n      <th>1</th>\n      <td>5</td>\n      <td>4</td>\n      <td>4</td>\n      <td>5</td>\n      <td>7</td>\n      <td>10.0</td>\n      <td>3</td>\n      <td>2</td>\n      <td>1</td>\n    </tr>\n    <tr>\n      <th>2</th>\n      <td>3</td>\n      <td>1</td>\n      <td>1</td>\n      <td>1</td>\n      <td>2</td>\n      <td>2.0</td>\n      <td>3</td>\n      <td>1</td>\n      <td>1</td>\n    </tr>\n    <tr>\n      <th>3</th>\n      <td>6</td>\n      <td>8</td>\n      <td>8</td>\n      <td>1</td>\n      <td>3</td>\n      <td>4.0</td>\n      <td>3</td>\n      <td>7</td>\n      <td>1</td>\n    </tr>\n    <tr>\n      <th>4</th>\n      <td>4</td>\n      <td>1</td>\n      <td>1</td>\n      <td>3</td>\n      <td>2</td>\n      <td>1.0</td>\n      <td>3</td>\n      <td>1</td>\n      <td>1</td>\n    </tr>\n  </tbody>\n</table>\n</div>"
     },
     "execution_count": 1643,
     "metadata": {},
     "output_type": "execute_result"
    }
   ],
   "source": [
    "X.head()"
   ]
  },
  {
   "cell_type": "code",
   "execution_count": 1644,
   "metadata": {
    "collapsed": false,
    "jupyter": {
     "outputs_hidden": false
    }
   },
   "outputs": [
    {
     "data": {
      "text/plain": "(699, 9)"
     },
     "execution_count": 1644,
     "metadata": {},
     "output_type": "execute_result"
    }
   ],
   "source": [
    "X.shape"
   ]
  },
  {
   "cell_type": "code",
   "execution_count": 1645,
   "metadata": {},
   "outputs": [
    {
     "data": {
      "text/plain": "array([[<Axes: title={'center': 'Clump_thickness'}>,\n        <Axes: title={'center': 'Uniformity_of_cell_size'}>,\n        <Axes: title={'center': 'Uniformity_of_cell_shape'}>],\n       [<Axes: title={'center': 'Marginal_adhesion'}>,\n        <Axes: title={'center': 'Single_epithelial_cell_size'}>,\n        <Axes: title={'center': 'Bare_nuclei'}>],\n       [<Axes: title={'center': 'Bland_chromatin'}>,\n        <Axes: title={'center': 'Normal_nucleoli'}>,\n        <Axes: title={'center': 'Mitoses'}>]], dtype=object)"
     },
     "execution_count": 1645,
     "metadata": {},
     "output_type": "execute_result"
    },
    {
     "data": {
      "text/plain": "<Figure size 1100x1100 with 9 Axes>",
      "image/png": "[encoded data removed]"
     },
     "metadata": {},
     "output_type": "display_data"
    }
   ],
   "source": [
    "X.iloc[:,:9].hist(figsize=(11,11))"
   ]
  },
  {
   "cell_type": "code",
   "execution_count": 1646,
   "metadata": {},
   "outputs": [
    {
     "data": {
      "text/plain": "array([[<Axes: title={'center': 'Class'}>]], dtype=object)"
     },
     "execution_count": 1646,
     "metadata": {},
     "output_type": "execute_result"
    },
    {
     "data": {
      "text/plain": "<Figure size 300x300 with 1 Axes>",
      "image/png": "[encoded data removed]"
     },
     "metadata": {},
     "output_type": "display_data"
    }
   ],
   "source": [
    "y.iloc[:,:2].hist(figsize=(3,3))"
   ]
  },
  {
   "attachments": {},
   "cell_type": "markdown",
   "metadata": {},
   "source": [
    "**1.1 Missing Values Imputation**"
   ]
  },
  {
   "cell_type": "code",
   "execution_count": 1647,
   "metadata": {},
   "outputs": [
    {
     "data": {
      "text/plain": "Clump_thickness                 0\nUniformity_of_cell_size         0\nUniformity_of_cell_shape        0\nMarginal_adhesion               0\nSingle_epithelial_cell_size     0\nBare_nuclei                    16\nBland_chromatin                 0\nNormal_nucleoli                 0\nMitoses                         0\ndtype: int64"
     },
     "execution_count": 1647,
     "metadata": {},
     "output_type": "execute_result"
    }
   ],
   "source": [
    "X.isnull().sum()"
   ]
  },
  {
   "cell_type": "code",
   "execution_count": 1648,
   "metadata": {},
   "outputs": [
    {
     "data": {
      "text/plain": "Class    0\ndtype: int64"
     },
     "execution_count": 1648,
     "metadata": {},
     "output_type": "execute_result"
    }
   ],
   "source": [
    "y.isnull().sum()"
   ]
  },
  {
   "attachments": {},
   "cell_type": "markdown",
   "metadata": {},
   "source": [
    "Imputation using mode"
   ]
  },
  {
   "cell_type": "code",
   "execution_count": 1649,
   "metadata": {},
   "outputs": [],
   "source": [
    "mode_imputer = SimpleImputer(strategy='most_frequent')\n",
    "X_imputed = pd.DataFrame(mode_imputer.fit_transform(X), columns=X.columns)"
   ]
  },
  {
   "attachments": {},
   "cell_type": "markdown",
   "metadata": {},
   "source": [
    "Check that they have all been filled in"
   ]
  },
  {
   "cell_type": "code",
   "execution_count": 1650,
   "metadata": {},
   "outputs": [
    {
     "name": "stdout",
     "output_type": "stream",
     "text": [
      "Clump_thickness                0\n",
      "Uniformity_of_cell_size        0\n",
      "Uniformity_of_cell_shape       0\n",
      "Marginal_adhesion              0\n",
      "Single_epithelial_cell_size    0\n",
      "Bare_nuclei                    0\n",
      "Bland_chromatin                0\n",
      "Normal_nucleoli                0\n",
      "Mitoses                        0\n",
      "dtype: int64\n"
     ]
    }
   ],
   "source": [
    "nan_count = np.isnan(X_imputed).sum()\n",
    "print(nan_count)"
   ]
  },
  {
   "cell_type": "code",
   "execution_count": 1651,
   "metadata": {
    "collapsed": false,
    "jupyter": {
     "outputs_hidden": false
    }
   },
   "outputs": [
    {
     "data": {
      "text/plain": "(699, 9)"
     },
     "execution_count": 1651,
     "metadata": {},
     "output_type": "execute_result"
    }
   ],
   "source": [
    "X_imputed.shape"
   ]
  },
  {
   "cell_type": "markdown",
   "metadata": {
    "collapsed": false,
    "jupyter": {
     "outputs_hidden": false
    }
   },
   "source": [
    "# 2 Princial Component Analysis\n",
    "----"
   ]
  },
  {
   "cell_type": "markdown",
   "metadata": {
    "collapsed": false,
    "jupyter": {
     "outputs_hidden": false
    }
   },
   "source": [
    "**2.1 Standardisation Prior to PCA**"
   ]
  },
  {
   "cell_type": "markdown",
   "metadata": {
    "collapsed": false,
    "jupyter": {
     "outputs_hidden": false
    }
   },
   "source": [
    "The decision to standardise the data before doing PCA is determined by the measurement scales of the original features. Because PCA produces a feature subspace that maximises variation along the axes, standardising the data makes sense, especially if the features were measured on different scales. Despite the fact that all variables in the breast cancer dataset were assessed on the same scale (1-10), each item reflects a separate element of cell properties and may have different distributions and variances. We therefore apply standard normalisation to guarantee that all features contribute equally to the PCA. This seeks to rescale the features to reflect the parameters of a standard normal distribution with a mean of zero and a standard deviation of one. This is important since PCA operates on the assumption that the data is normally distributed and is highly sensitive to the variance of the features. If we do not normalise the data, features with wide range differences will outweigh those with modest ranges, potentially leading to misleading results [1]."
   ]
  },
  {
   "cell_type": "code",
   "execution_count": 1652,
   "metadata": {
    "collapsed": false,
    "jupyter": {
     "outputs_hidden": false
    }
   },
   "outputs": [],
   "source": [
    "from sklearn.model_selection import train_test_split\n",
    "\n",
    "X_train, X_test, y_train, y_test = train_test_split(X_imputed, y, test_size=0.25, random_state=0)"
   ]
  },
  {
   "cell_type": "code",
   "execution_count": 1653,
   "metadata": {
    "collapsed": false,
    "jupyter": {
     "outputs_hidden": false
    }
   },
   "outputs": [],
   "source": [
    "from sklearn.preprocessing import StandardScaler\n",
    "\n",
    "scaler = StandardScaler()\n",
    "X_train_scaled = scaler.fit_transform(X_train)\n",
    "X_test_scaled = scaler.transform(X_test)"
   ]
  },
  {
   "cell_type": "markdown",
   "metadata": {
    "collapsed": false,
    "jupyter": {
     "outputs_hidden": false
    }
   },
   "source": [
    "**2.2 The Process of PCA**\n",
    "\n",
    "The process of Principal Component Analysis (PCA) can be summarised through four main steps. Initially, we compute the **mean vector**, which in our case is 9-dimensional, representing each of the individual raw features in our dataset. The mean vector $\\boldsymbol{\\vec{x}}$ is calculated using the formula:\n",
    "\n",
    "\\begin{equation}\n",
    "\\boldsymbol{\\vec{x}} = \\frac{1}{N} \\sum_{i=1}^{N} \\boldsymbol{\\vec{x}}^{(i)}\n",
    "\\end{equation}\n",
    "\n",
    "Here, $N$ represents the number of observations, and $\\boldsymbol{\\vec{x}}^{(i)}$ signifies each datum.\n",
    "\n",
    "The purpose of this step is to centralise the data by subtracting the mean vector from each data point. This subtraction corresponds to an overall translation in the space where the data lives and carries no information about the actual relationships between the variables [2]. Note that in our situation, this phase will not result in any data shift because we had standardised the data in the previous stage to have a mean of 0 and variance of 1, but we still include it because it is part of the PCA process and may be useful if we decide not to standardise the data."
   ]
  },
  {
   "cell_type": "markdown",
   "metadata": {
    "collapsed": false,
    "jupyter": {
     "outputs_hidden": false
    }
   },
   "source": [
    "<div style=\"text-align: center;\">\n",
    "<img src=\"Figures/Standard Normalisation.jpg\" alt=\"Alternative text\" width=\"700\" height=\"250\" />\n",
    "</div>"
   ]
  },
  {
   "cell_type": "markdown",
   "metadata": {
    "collapsed": false,
    "jupyter": {
     "outputs_hidden": false
    }
   },
   "source": [
    "Next step is then to calculate the **covariance matrix** of the whole dataset which is given by:\n",
    "\n",
    "\\begin{equation} \n",
    "\\mathbf{\\Sigma} = \\frac{1}{N-1} \\sum_{i=1}^{N} (\\boldsymbol{\\vec{x}}^{(i)} - \\boldsymbol{\\bar{x}})^T \\cdot (\\boldsymbol{\\vec{x}}^{(i)} - \\boldsymbol{\\bar{x}})\n",
    "\\end{equation}\n",
    "\n",
    "\n",
    "Note that in our convention $\\boldsymbol{\\vec{x}}^{(i)}$ and $\\boldsymbol{\\bar{x}}$ are row vectors. The equation above is therefore the sum of the dot products of 9D column vectors and 9D row vectors. This makes $\\mathbf{\\Sigma}$ a 9 × 9 square matrix.\n",
    "\n",
    "Then, using the **scipy.linalg.eigh** function, we calculate the eigenvalues and eigenvectors of $\\mathbf{\\Sigma}$, that is we wish to compute the unit vectors $\\boldsymbol{\\vec{v}}$ that obey:\n",
    "\n",
    "\\begin{equation}\n",
    "\\mathbf{\\Sigma} \\boldsymbol{\\vec{v}} = \\lambda \\boldsymbol{\\vec{v}}\n",
    "\\end{equation}\n",
    "\n",
    "where $\\lambda$ represents the eigenvalue corresponding to the eigenvector $\\boldsymbol{\\vec{v}}$. The eigenvalues are derived from the matrix's characteristic polynomial, which is expressed as:\n",
    "\n",
    "\\begin{equation}\n",
    "\\text{det}(\\mathbf{\\Sigma} - \\lambda \\mathbf{I}) = 0\n",
    "\\end{equation}\n",
    "\n",
    "By substituting each eigenvalue $\\lambda$ into the equation and solving for $\\boldsymbol{\\vec{v}}$, one may then obtain the corresponding eigenvector for each eigenvalue. With nine raw features in our dataset, we expect to extract nine related eigenpairs. The eigenvectors calculated are the components. To choose the first principal component we simply look for the eigenpair with the largest eigenvalue. If we do this iteratively and sort the eigenpairs by eigenvalues, we then have a ranking of importance of all of our new components [2]."
   ]
  },
  {
   "cell_type": "markdown",
   "metadata": {
    "collapsed": false,
    "jupyter": {
     "outputs_hidden": false
    }
   },
   "source": [
    "**2.3 The PCA Class**"
   ]
  },
  {
   "cell_type": "code",
   "execution_count": 1654,
   "metadata": {
    "collapsed": false,
    "jupyter": {
     "outputs_hidden": false
    }
   },
   "outputs": [
    {
     "data": {
      "text/html": "        <script type=\"text/javascript\">\n        window.PlotlyConfig = {MathJaxConfig: 'local'};\n        if (window.MathJax && window.MathJax.Hub && window.MathJax.Hub.Config) {window.MathJax.Hub.Config({SVG: {font: \"STIX-Web\"}});}\n        if (typeof require !== 'undefined') {\n        require.undef(\"plotly\");\n        requirejs.config({\n            paths: {\n                'plotly': ['https://cdn.plot.ly/plotly-2.12.1.min']\n            }\n        });\n        require(['plotly'], function(Plotly) {\n            window._Plotly = Plotly;\n        });\n        }\n        </script>\n        "
     },
     "metadata": {},
     "output_type": "display_data"
    }
   ],
   "source": [
    "import numpy as np\n",
    "from scipy.linalg import eigh\n",
    "import matplotlib.pyplot as plt\n",
    "import plotly.graph_objects as go\n",
    "from plotly.offline import init_notebook_mode, iplot\n",
    "init_notebook_mode(connected=True)\n",
    "import pandas as pd\n",
    "\n",
    "class PCA:\n",
    "    \"\"\"\n",
    "    Principal Component Analysis (PCA) Class\n",
    "\n",
    "    Attributes\n",
    "    ----------\n",
    "    n_components : int\n",
    "        Number of principal components to retain.\n",
    "    feature_names : list\n",
    "        Names of the raw features in the dataset.\n",
    "    components : numpy.ndarray\n",
    "        Principal components (eigenvectors of the covariance matrix).\n",
    "    mean_vector : numpy.ndarray\n",
    "        Mean of the features.\n",
    "    explained_variance_ : np.ndarray\n",
    "        Variance explained by each of the selected components.\n",
    "    explained_variance_ratio_ : numpy.ndarray\n",
    "        Percentage of variance explained by each of the selected components.\n",
    "\n",
    "    References\n",
    "    ----------\n",
    "    * MLiS Notes: Garrahan JP, Gillman E, Mair JF. 2023. Machine Learning in Science Part 1 (PHYS4035) Lecture Notes.\n",
    "    * Github: https://github.com/erdogant/pca\n",
    "    * Textbook: Springer Series in Statistics 2002. Choosing a Subset of Principal Components or Variables. In:\n",
    "    Principal Component Analysis. Springer, New York, NY. https://doi.org/10.1007/0-387-22440-8_6\n",
    "    \"\"\"\n",
    "\n",
    "    def __init__(self, n_components):\n",
    "        \"\"\"\n",
    "        Initialise the PCA object with the number of components desired to retain.\n",
    "\n",
    "        Parameters\n",
    "        ----------\n",
    "        n_components : int\n",
    "            Number of principal components to retain.\n",
    "        \"\"\"\n",
    "        self.feature_names = []\n",
    "        self.n_components = n_components\n",
    "        self.components = None\n",
    "        self.mean_vector = None\n",
    "        self.explained_variance_ = None\n",
    "        self.explained_variance_ratio_ = None\n",
    "\n",
    "    def fit(self, X):\n",
    "        \"\"\"\n",
    "        Fit the PCA model to the data\n",
    "\n",
    "        The function computes the principal components of the provided design matrix. The function is normally fitted to\n",
    "        the training set after splitting. It computes the mean vector, covariance matrix,eigenvalues, and eigenvectors\n",
    "        of the covariance matrix. The components (eigenvectors) are then arranged in descending order by their associated\n",
    "        eigenvalues. Only the top ``n_components`` principal components are kept if ``n_components`` is specified.\n",
    "\n",
    "        Parameters\n",
    "        ----------\n",
    "        X : DataFrame\n",
    "            The design matrix with the features.  Each column represents a feature, and each row represents a sample.\n",
    "\n",
    "        Notes\n",
    "        -----\n",
    "        The method assumes that the input data 'X' is a pandas DataFrame with numerical values. Before using this\n",
    "        method, missing values in 'X' should be addressed. The method centers the data by subtracting the mean vector\n",
    "        from each sample but does not scale the features. Therefore, it's advisable to standardise the data before\n",
    "        performing PCA if the features are on different scales.\n",
    "\n",
    "        Examples\n",
    "        -----\n",
    "        >>> import pandas as pd\n",
    "        >>> # Load example data\n",
    "        >>> from sklearn.datasets import load_iris\n",
    "        >>> data = load_iris()\n",
    "        >>> X = pd.DataFrame(data.data, columns=data.feature_names)\n",
    "        >>> pca = PCA(n_components=3)\n",
    "        >>> pca.fit(X)\n",
    "        \"\"\"\n",
    "        self.mean_vector = np.mean(X, axis=0)\n",
    "        X = X - self.mean_vector\n",
    "\n",
    "        covariance_matrix = np.cov(X, rowvar=False)\n",
    "        eigenvalues, eigenvectors = eigh(covariance_matrix)\n",
    "        pos = np.argsort(eigenvalues)[::-1]\n",
    "\n",
    "        eigenvalues = eigenvalues[pos]\n",
    "        eigenvectors = eigenvectors[:, pos]\n",
    "\n",
    "        if self.n_components is not None:\n",
    "            self.components = eigenvectors[:, :self.n_components]\n",
    "        else:\n",
    "            self.components = eigenvectors\n",
    "\n",
    "        self.explained_variance_ = eigenvalues[:self.n_components]\n",
    "        self.explained_variance_ratio()\n",
    "\n",
    "        # Initialise feature names list\n",
    "        self.feature_names = X.columns.tolist()\n",
    "\n",
    "    def transform(self, X):\n",
    "        \"\"\"\n",
    "        Transform the data to the new principal components space.\n",
    "\n",
    "        The function projects the data onto the principal components computed in the ``fit`` method. This transformation\n",
    "        is achieved by centering the data again using the mean vector computed in ``fit`` and then multiplying it by the\n",
    "        principal component vectors. The ``fit`` method must be called before using this method.\n",
    "\n",
    "        Parameters\n",
    "        ----------\n",
    "        X : DataFrame\n",
    "            The data to be transformed. It must have the same number of features as the dataset used in the ``fit``\n",
    "            method.\n",
    "\n",
    "        Returns\n",
    "        -------\n",
    "        numpy.ndarray\n",
    "            The transformed data array, where each row is the projection of the corresponding sample onto the\n",
    "            principal components.\n",
    "\n",
    "        Notes\n",
    "        -----\n",
    "        This method does not check for missing values in ``X``. It is the responsibility of the user to ensure that ``X``\n",
    "        is preprocessed appropriately before using this function. To appropriately apply PCA, the 'fit' method should\n",
    "        be called on the training data to fit the model appropriately and then this function can be used for the\n",
    "        transformation. It is crucial that the test data, however, is transformed directly using the previously fitted\n",
    "        model and not fit a new model to prevent data leakage.\n",
    "\n",
    "        Examples\n",
    "        -----\n",
    "        >>> import pandas as pd\n",
    "        >>> # Load example data\n",
    "        >>> from sklearn.datasets import load_iris\n",
    "        >>> data = load_iris()\n",
    "        >>> X = pd.DataFrame(data.data, columns=data.feature_names)\n",
    "        >>> y = data.target\n",
    "        >>> from sklearn.model_selection import train_test_split\n",
    "        >>> X_train, X_test, y_train, y_test = train_test_split(X, y, test_size=0.25, random_state=0)\n",
    "        >>> pca = PCA(n_components=3)\n",
    "        >>> pca.fit(X_train)\n",
    "        >>> X_train_transformed = pca.transform(X_train)\n",
    "        >>> X_test_transformed = pca.transform(X_test)\n",
    "        \"\"\"\n",
    "\n",
    "        X = X - self.mean_vector\n",
    "        return np.dot(X, self.components)\n",
    "\n",
    "    def explained_variance_ratio(self):\n",
    "        \"\"\"\n",
    "        Calculate and store the explained variance ratio of each principal component.\n",
    "\n",
    "        The method computes the ratio of variance that each principal component accounts for. It explains\n",
    "        how much of the total variance in the data is explained by each principal component. The variance ratio\n",
    "        is calculated as the variance explained by each principal component, ```self.explained_variance``` divided\n",
    "        by the total variance explained by all the principal components specified by the user. The method then\n",
    "        updates the ``explained_variance_ratio_`` attribute of the PCA object.\n",
    "\n",
    "        Notes\n",
    "        -----\n",
    "        The 'explained_variance_ratio_' attribute will be a numpy array with the ratio of the variance explained by\n",
    "        each principal component. These values are useful in understanding the contribution of each principal component\n",
    "        to the total variance in the dataset, which can help us in making an informed decision on how many principal\n",
    "        components to retain.\n",
    "        \"\"\"\n",
    "\n",
    "        variance_sum = sum(self.explained_variance_)\n",
    "        self.explained_variance_ratio_ = self.explained_variance_ / variance_sum\n",
    "\n",
    "    def plot_explained_variance(self, threshold_criteria, figsize=(6,6)):\n",
    "        \"\"\"\n",
    "        Plot the cumulative explained variance against the number of principal components specified.\n",
    "\n",
    "        This function plots how much variance is explained by the principal components only specified in\n",
    "        ```self.n_components```. It plots one line for the cumulative explained variance ratio among all the components\n",
    "        and plots a bar chart, where the height of each bar corresponds to the variance ratio explained by each\n",
    "        principal component. Furthermore, the function creates a horizontal and perpendicular line at a defined\n",
    "        cumulative variance threshold., helping to determine an appropriate number of principal components to retain.\n",
    "\n",
    "        Parameters\n",
    "        ----------\n",
    "        threshold_criteria : float\n",
    "            Desired threshold for the cumulative explained variance.\n",
    "        figsize : tuple, optional\n",
    "            Size of the matplotlib figure. Defaults to (6, 6).\n",
    "\n",
    "        Raises\n",
    "        ------\n",
    "        ValueError\n",
    "            If the PCA model has not been fitted before calling this method.\n",
    "\n",
    "        Examples\n",
    "        -----\n",
    "        >>> import pandas as pd\n",
    "        >>> # Load example data\n",
    "        >>> from sklearn.datasets import load_iris\n",
    "        >>> data = load_iris()\n",
    "        >>> X = pd.DataFrame(data.data, columns=data.feature_names)\n",
    "        >>> y = data.target\n",
    "        >>> from sklearn.model_selection import train_test_split\n",
    "        >>> X_train, X_test, y_train, y_test = train_test_split(X, y, test_size=0.25, random_state=0)\n",
    "        >>> pca = PCA(n_components=3)\n",
    "        >>> pca.fit(X_train)\n",
    "        >>> pca.plot_explained_variance(threshold_criteria=0.8, figsize=(9, 3.5))\n",
    "        \"\"\"\n",
    "\n",
    "        if self.explained_variance_ is None or self.explained_variance_ratio_ is None:\n",
    "            raise ValueError(\"The PCA model must be fitted before plotting the explained variance.\")\n",
    "\n",
    "        cumulative_explained_variance = np.cumsum(self.explained_variance_ratio_)\n",
    "        components_required = np.argmax(cumulative_explained_variance >= threshold_criteria) + 1\n",
    "\n",
    "        # Prepare the figure\n",
    "        xtick_idx = np.arange(1, len(self.explained_variance_) + 1)\n",
    "        fig, ax = plt.subplots(figsize=figsize)\n",
    "        ax.plot(xtick_idx, cumulative_explained_variance[:self.n_components], 'o-', color='#0BEF2E', linewidth=1, label='Cumulative explained variance')\n",
    "        ax.set_xticks(xtick_idx)\n",
    "        ax.bar(xtick_idx, self.explained_variance_ratio_[:self.n_components], color='#3182bd', alpha=0.8, label='Individual explained variance')\n",
    "\n",
    "        ax.axhline(y=threshold_criteria, color='red', linestyle='-', linewidth=0.5)\n",
    "        ax.axvline(x=components_required, color='red', linestyle='-', linewidth=0.5)\n",
    "\n",
    "        ax.set_ylabel('Explained Variance Ratio', color='black')\n",
    "        ax.set_xlabel('Principal Component', color='black')\n",
    "        ax.set_ylim([0, 1.05])\n",
    "        ax.set_xlim([0, self.n_components + 1])\n",
    "\n",
    "        for spine in ax.spines.values():\n",
    "            spine.set_edgecolor('black')\n",
    "            spine.set_linewidth(0.5)\n",
    "\n",
    "        title = f'{components_required} Principal Components Explain {cumulative_explained_variance[components_required - 1]:.2%} of the Variance Relative to the Chosen Components'\n",
    "        ax.set_title(title)\n",
    "        ax.set_facecolor(\"white\")\n",
    "        ax.grid(True, color='#A9A9A9', linewidth=0.5)\n",
    "        ax.legend(loc='best')\n",
    "        plt.show()\n",
    "\n",
    "\n",
    "    def get_loadings(self, PC=(0,1)):\n",
    "        \"\"\"\n",
    "        Gets the loadings for specified principal components.\n",
    "\n",
    "        Loadings are the coefficients of the linear combination of the original raw variables from which the principal\n",
    "        components are constructed. This method returns the loadings for the specified principal components.\n",
    "\n",
    "        Parameters\n",
    "        ----------\n",
    "        PC : tuple, optional\n",
    "            Indices of the principal components for which loadings are to be retrieved. The indices are start from zero not one.\n",
    "            Defaults are set to (0, 1), i.e. the first two components.\n",
    "\n",
    "        Returns\n",
    "        -------\n",
    "        pd.DataFrame\n",
    "            A DataFrame where each column corresponds to a principal component and the rows are indexed by the original\n",
    "            feature names.\n",
    "\n",
    "        Raises\n",
    "        ------\n",
    "        ValueError\n",
    "            If the PCA model has not been fitted before calling this method or if the specified principal component\n",
    "            indices are invalid (outside the range of computed components).\n",
    "\n",
    "        Examples\n",
    "        --------\n",
    "        >>> import pandas as pd\n",
    "        >>> from sklearn.datasets import load_iris\n",
    "        >>> iris = load_iris()\n",
    "        >>> X = pd.DataFrame(iris.data, columns=iris.feature_names)\n",
    "        >>> pca = PCA(n_components=3)\n",
    "        >>> pca.fit(X)\n",
    "        >>> print(pca.get_loadings())\n",
    "        \"\"\"\n",
    "\n",
    "        if self.components is None:\n",
    "            raise ValueError(\"The PCA model must be fitted before retrieving loadings.\")\n",
    "\n",
    "        for component in PC:\n",
    "            if component < 0 or component >= self.n_components:\n",
    "                raise ValueError(f\"Invalid component: {component + 1} ({component}). Components must be between 1 and {self.n_components} (0,{self.n_components-1})\")\n",
    "\n",
    "        component_names = [f'PC{component+1}' for component in PC]\n",
    "        loadings = pd.DataFrame(self.components[:, PC], columns=component_names, index=self.feature_names)\n",
    "\n",
    "        return loadings\n",
    "\n",
    "    def get_projected_data(self, X, PC=(0,1)):\n",
    "        \"\"\"\n",
    "        Gets the projected data onto the specified principal components.\n",
    "\n",
    "        This function projects the data ``X`` onto the specified principal components and creates a DataFrame where the\n",
    "        columns represent the principal components and the rows contain the axis of each projected sample in ``X``.\n",
    "\n",
    "        Parameters\n",
    "        ----------\n",
    "        X : DataFrame\n",
    "            The data to be projected. Should have the same P (features) dimensions of the data used in the ``fit`` function.\n",
    "        PC : tuple, optional\n",
    "            Indices of the principal components to project the data onto. The indices are start from zero not one.\n",
    "            Defaults are set to (0, 1), i.e. the first two components.\n",
    "\n",
    "        Returns\n",
    "        -------\n",
    "        pd.DataFrame\n",
    "            A DataFrame containin the projected data.\n",
    "\n",
    "        Raises\n",
    "        ------\n",
    "        ValueError\n",
    "            If the PCA model has not been fitted before calling this method or if the specified principal component\n",
    "            indices are invalid (outside the range of computed components).\n",
    "\n",
    "        Examples\n",
    "        --------\n",
    "        >>> import pandas as pd\n",
    "        >>> from sklearn.datasets import load_iris\n",
    "        >>> iris = load_iris()\n",
    "        >>> X = pd.DataFrame(iris.data, columns=iris.feature_names)\n",
    "        >>> pca = PCA(n_components=3)\n",
    "        >>> pca.fit(X)\n",
    "        >>> print(pca.get_projected_data(X))\n",
    "        \"\"\"\n",
    "        if self.components is None:\n",
    "            raise ValueError(\"The PCA model must be fitted before retrieving projected data.\")\n",
    "\n",
    "        for component in PC:\n",
    "            if component < 0 or component >= self.n_components:\n",
    "                raise ValueError(f\"Invalid component: {component + 1} ({component}). Components must be between 1 and {self.n_components} (0,{self.n_components-1})\")\n",
    "\n",
    "        # Projecting X\n",
    "        projected_data = self.transform(X)\n",
    "        component_names = [f'PC{component+1}' for component in PC]\n",
    "        projected_data_df = pd.DataFrame(projected_data[:, PC], columns=component_names)\n",
    "\n",
    "        return projected_data_df\n",
    "\n",
    "    def biplot_2D(self, X, y, PC=(0,1), figsize=(9,5)):\n",
    "        \"\"\"\n",
    "        Generates a 2D biplot of the projected data.\n",
    "\n",
    "        This method creates a 2D biplot that displays the projection of the original data ``X`` onto the specified\n",
    "        principal components and the vector loadings of each feature on these components.\n",
    "\n",
    "        Parameters\n",
    "        ----------\n",
    "        X : pd.DataFrame or np.ndarray\n",
    "            The data to be visualised. Should have the same P (features) dimensions of the data used in the ``fit`` function.\n",
    "        y : pd.Series or np.ndarray\n",
    "            The target vector with the corresponding target of each sample in ``X``. The target labels is used for color\n",
    "             coding the observations in the plot.\n",
    "        PC : tuple, optional\n",
    "            Indices of the two principal components to plot against each other in the plot. Defaults to (0, 1).\n",
    "        figsize : tuple, optional\n",
    "            Size of the figure. Defaults to (9, 5).\n",
    "\n",
    "        Returns\n",
    "        -------\n",
    "        None\n",
    "            Does not return a value but shows the biplot.\n",
    "\n",
    "        Raises\n",
    "        ------\n",
    "        ValueError\n",
    "            If the PCA model has not been fitted before calling this method or if the specified component indices are\n",
    "            invalid (outside the range of computed components).\n",
    "\n",
    "        Examples\n",
    "        --------\n",
    "        >>> import pandas as pd\n",
    "        >>> # Load example data\n",
    "        >>> from sklearn.datasets import load_iris\n",
    "        >>> data = load_iris()\n",
    "        >>> X = pd.DataFrame(data.data, columns=data.feature_names)\n",
    "        >>> y = data.target\n",
    "        >>> from sklearn.model_selection import train_test_split\n",
    "        >>> X_train, X_test, y_train, y_test = train_test_split(X, y, test_size=0.25, random_state=0)\n",
    "        >>> pca = PCA(n_components=3)\n",
    "        >>> pca.fit(X_train)\n",
    "        >>> pca.biplot_2D(X_train, y_train)\n",
    "        \"\"\"\n",
    "\n",
    "        if self.components is None:\n",
    "            raise ValueError(\"The PCA model must be fitted before creating the biplot.\")\n",
    "\n",
    "        for component in PC:\n",
    "            if component < 0 or component >= self.n_components:\n",
    "                raise ValueError(f\"Invalid component: {component + 1} ({component}). Components must be between 1 and {self.n_components} (0,{self.n_components-1})\")\n",
    "\n",
    "        projected_data_df = self.get_projected_data(X)\n",
    "        loadings = self.get_loadings(PC)\n",
    "\n",
    "        # Scaling the PCs\n",
    "        scales = [1.0 / (projected_data_df[col].max() - projected_data_df[col].min()) for col in projected_data_df.columns]\n",
    "\n",
    "        # Prepare Plot\n",
    "        fig, ax = plt.subplots(figsize=figsize)\n",
    "        for i, feature in enumerate(self.feature_names):\n",
    "            ax.arrow(0, 0, loadings.iloc[i, 0], loadings.iloc[i, 1], fc='red', ec='red', head_width=0.005, head_length=0.01, width=0.000005)\n",
    "            ax.text(loadings.iloc[i, 0] * 1.05, loadings.iloc[i, 1] * 1.05, feature, fontsize=11)\n",
    "\n",
    "        target_colors = np.where(y == 2, 2, 4)\n",
    "        scatter = ax.scatter(projected_data_df.iloc[:,0] * scales[0],\n",
    "                             projected_data_df.iloc[:, 1] * scales[1],\n",
    "                             c=target_colors,\n",
    "                             cmap='viridis')\n",
    "\n",
    "        for spine in ax.spines.values():\n",
    "            spine.set_edgecolor('black')\n",
    "            spine.set_linewidth(0.5)\n",
    "\n",
    "        ax.set_xlabel(f'PC{PC[0]+1}', fontsize=15)\n",
    "        ax.set_ylabel(f'PC{PC[1]+1}', fontsize=15)\n",
    "        ax.set_title('Biplot', fontsize=15)\n",
    "        ax.set_facecolor(\"white\")\n",
    "        ax.legend(*scatter.legend_elements(), loc=\"lower left\", title=\"Groups\")\n",
    "        plt.show()\n",
    "\n",
    "    def biplot_3D(self, X, y, PC=(0,1,2), width=700, height=600):\n",
    "        \"\"\"\n",
    "        Generates a 3D interactive biplot of the projected data.\n",
    "\n",
    "        This method creates a 3D interactive biplot that displays the projection of the original data ``X`` onto the specified\n",
    "        principal components and the vector loadings of each feature on these components.\n",
    "\n",
    "        Parameters\n",
    "        ----------\n",
    "        X : pd.DataFrame or np.ndarray\n",
    "            The data to be visualised. Should have the same P (features) dimensions of the data used in the ``fit`` function.\n",
    "        y : pd.Series or np.ndarray\n",
    "            The target vector with the corresponding target of each sample in ``X``. The target labels is used for color\n",
    "             coding the observations in the plot.\n",
    "        PC : tuple, optional\n",
    "            Indices of the three principal components to plot against each other in the plot. Defaults to (0, 1,2). i.e\n",
    "            first three components.\n",
    "        width : int, optional\n",
    "            Width of the plot.\n",
    "        height : int, optional\n",
    "            Height of the plot.\n",
    "\n",
    "        Returns\n",
    "        -------\n",
    "        None\n",
    "            Does not return a value but displays the biplot.\n",
    "\n",
    "        Raises\n",
    "        ------\n",
    "        ValueError\n",
    "            If the PCA model has not been fitted before calling this method or if the specified component indices are\n",
    "            invalid (outside the range of computed components).\n",
    "\n",
    "        Examples\n",
    "        --------\n",
    "        >>> import pandas as pd\n",
    "        >>> # Load example data\n",
    "        >>> from sklearn.datasets import load_iris\n",
    "        >>> data = load_iris()\n",
    "        >>> X = pd.DataFrame(data.data, columns=data.feature_names)\n",
    "        >>> y = data.target\n",
    "        >>> from sklearn.model_selection import train_test_split\n",
    "        >>> X_train, X_test, y_train, y_test = train_test_split(X, y, test_size=0.25, random_state=0)\n",
    "        >>> pca = PCA(n_components=3)\n",
    "        >>> pca.fit(X_train)\n",
    "        >>> pca.biplot_3D(X_train, y_train, PC=(0,1,2), width=1200, height=700)\n",
    "        \"\"\"\n",
    "        if self.components is None:\n",
    "            raise ValueError(\"The PCA model must be fitted before creating the biplot.\")\n",
    "\n",
    "        for component in PC:\n",
    "            if component < 0 or component >= self.n_components:\n",
    "                raise ValueError(f\"Invalid component: {component + 1} ({component}). Components must be between 1 and {self.n_components} (0,{self.n_components-1})\")\n",
    "\n",
    "        projected_data_df = self.get_projected_data(X, PC)\n",
    "        loadings = self.get_loadings(PC)\n",
    "\n",
    "        # Scaling the PCs\n",
    "        scales = [1.0 / (projected_data_df[col].max() - projected_data_df[col].min()) for col in projected_data_df.columns]\n",
    "\n",
    "        y_values = y['Class'].values\n",
    "        target_colors = np.where(y_values == 2, 2, 4)\n",
    "        trace = go.Scatter3d(\n",
    "            x=projected_data_df.iloc[:, 0] * scales[0],\n",
    "            y=projected_data_df.iloc[:, 1] * scales[1],\n",
    "            z=projected_data_df.iloc[:, 2] * scales[2],\n",
    "            mode='markers',\n",
    "            marker=dict(\n",
    "                size=5,\n",
    "                color=target_colors,\n",
    "                opacity=0.8\n",
    "            )\n",
    "        )\n",
    "        arrows = []\n",
    "        texts = []\n",
    "        for i, feature in enumerate(self.feature_names):\n",
    "            arrows.append(\n",
    "                go.Scatter3d(x=[0, loadings.iloc[i, 0]], y=[0, loadings.iloc[i, 1]], z=[0, loadings.iloc[i, 2]],\n",
    "                    mode='lines',\n",
    "                    line=dict(color='red'),\n",
    "                )\n",
    "            )\n",
    "            texts.append(\n",
    "                go.Scatter3d(x=[loadings.iloc[i, 0]*1.1], y=[loadings.iloc[i, 1]*1.1], z=[loadings.iloc[i, 2]*1.1],\n",
    "                             mode='text',\n",
    "                             text=[feature],\n",
    "                             textfont=dict(color=\"black\", size=10)\n",
    "                )\n",
    "            )\n",
    "        data = [trace] + arrows + texts\n",
    "        layout = go.Layout(\n",
    "            title='3D Biplot',\n",
    "            width=width,\n",
    "            height=height,\n",
    "            scene=dict(\n",
    "                xaxis=dict(title=f'PC{PC[0]+1}'),\n",
    "                yaxis=dict(title=f'PC{PC[1]+1}'),\n",
    "                zaxis=dict(title=f'PC{PC[2]+1}')\n",
    "            )\n",
    "        )\n",
    "        fig = go.Figure(data=data, layout=layout)\n",
    "        iplot(fig)"
   ]
  },
  {
   "cell_type": "code",
   "execution_count": 1655,
   "metadata": {
    "collapsed": false,
    "jupyter": {
     "outputs_hidden": false
    }
   },
   "outputs": [],
   "source": [
    "pca = PCA(n_components=9)\n",
    "pca.fit(X_train)"
   ]
  },
  {
   "cell_type": "markdown",
   "metadata": {
    "collapsed": false,
    "jupyter": {
     "outputs_hidden": false
    }
   },
   "source": [
    "**2.4 Explained Variance Plot**\n",
    "\n",
    "To see how much each component contributes to explaining the data's variation. We use the **plot_explained_variance** function in our PCA implementation. First the plot displays a bar chart, where the height of each bar corresponds to the variance ratio explained by each principal component relative to the chosen number of components when fitting the model. This helps us understand the significance of each component independently. The function additionally superimposes a line plot showing the cumulative explained variance ratio, which accumulates the variance explained as we move from the first to the last component. Furthermore, the function creates a horizontal line at a defined cumulative variance threshold.\n",
    "\n",
    "We utilise two plots and set the desired thresholds at 80% and 90% to evaluate how many components are required to explain 80% and 90% of the variation in the data, respectively. The purpose of this stage is to determine whether we can retain a small enough subset of the components, that we can project and visualise the data while maintaining the majority of the information described in the dataset. The first figure demonstrates that we can retrain three PCs while retaining 82.47% of the data's variance and five PCs to retain 90.97%. Moving on, we will maintain only three PCs for visualisation reasons and since 82.47% seems like a reasonable cutt-off to explain most of the information in the data [3]."
   ]
  },
  {
   "cell_type": "code",
   "execution_count": 1656,
   "metadata": {
    "collapsed": false,
    "jupyter": {
     "outputs_hidden": false
    }
   },
   "outputs": [
    {
     "data": {
      "text/plain": "<Figure size 900x350 with 1 Axes>",
      "image/png": "[encoded data removed]"
     },
     "metadata": {},
     "output_type": "display_data"
    },
    {
     "data": {
      "text/plain": "<Figure size 900x350 with 1 Axes>",
      "image/png": "[encoded data removed]"
     },
     "metadata": {},
     "output_type": "display_data"
    }
   ],
   "source": [
    "pca.plot_explained_variance(threshold_criteria=0.8, figsize=(9,3.5))\n",
    "pca.plot_explained_variance(threshold_criteria=0.90, figsize=(9,3.5))"
   ]
  },
  {
   "cell_type": "markdown",
   "metadata": {
    "collapsed": false,
    "jupyter": {
     "outputs_hidden": false
    }
   },
   "source": [
    "**2.5 Biplot**\n",
    "\n",
    "To visualise the data, we use the **biplot_2D** function to plot pairwise biplots between the PCs. We generate three graphs to show PC1 vs PC2, PC1 vs PC3, and PC2 vs PC3. In each plot, the principal components are presented as the new axis for the data , and each data point in the plot represents an observation (data point) in the transformed principal component space. Furthermore, because we want to observe how each raw feature contributes to the principal components, we generate vectors reflecting the PCA loadings for each variable. The direction and length of the vectors demonstrate how each feature contributes to the components.  We can also gain insight into the relationships between the raw features as a result of this.  Features with vectors heading in the same direction are positively associated, and vice versa. In the context of tumour analysis, this might suggest that particular features tend to rise together in either benign or malignant tumours. Finally, we examine if the data on the new axis contains any clusters, which quite clearly it does."
   ]
  },
  {
   "cell_type": "code",
   "execution_count": 1657,
   "metadata": {
    "collapsed": false,
    "jupyter": {
     "outputs_hidden": false
    }
   },
   "outputs": [
    {
     "name": "stdout",
     "output_type": "stream",
     "text": [
      "*********** Loadings (weights) of the original variables to the principal components ***********\n",
      "                                  PC1       PC2\n",
      "Clump_thickness             -0.290210  0.014053\n",
      "Uniformity_of_cell_size     -0.408848 -0.237363\n",
      "Uniformity_of_cell_shape    -0.393857 -0.181180\n",
      "Marginal_adhesion           -0.344925  0.103669\n",
      "Single_epithelial_cell_size -0.246809 -0.174070\n",
      "Bare_nuclei                 -0.425428  0.821127\n",
      "Bland_chromatin             -0.291394 -0.028453\n",
      "Normal_nucleoli             -0.364718 -0.419087\n",
      "Mitoses                     -0.121209 -0.137456\n"
     ]
    }
   ],
   "source": [
    "pca = PCA(n_components=3)\n",
    "pca.fit(X_train)\n",
    "print(f\"*********** Loadings (weights) of the original variables to the principal components ***********\\n{pca.get_loadings((0,1))}\")"
   ]
  },
  {
   "cell_type": "code",
   "execution_count": 1658,
   "metadata": {
    "collapsed": false,
    "jupyter": {
     "outputs_hidden": false
    }
   },
   "outputs": [
    {
     "name": "stdout",
     "output_type": "stream",
     "text": [
      "*********** Projected Data on The New Axis ***********\n",
      "         PC1       PC2\n",
      "0   4.408646 -0.144531\n",
      "1  -4.806783  5.115222\n",
      "2   4.563638  0.648490\n",
      "3  -5.211899 -3.285489\n",
      "4   4.009006  0.048754\n",
      "5 -15.100372  0.690977\n"
     ]
    }
   ],
   "source": [
    "print(f\"*********** Projected Data on The New Axis ***********\\n{pca.get_projected_data(X, (0,1)).head(6)}\")"
   ]
  },
  {
   "cell_type": "code",
   "execution_count": 1659,
   "metadata": {
    "collapsed": false,
    "jupyter": {
     "outputs_hidden": false
    }
   },
   "outputs": [
    {
     "data": {
      "text/plain": "<Figure size 1600x900 with 1 Axes>",
      "image/png": "[encoded data removed]"
     },
     "metadata": {},
     "output_type": "display_data"
    }
   ],
   "source": [
    "pca.biplot_2D(X_train, y_train, PC=(0,1), figsize=(16,9))"
   ]
  },
  {
   "cell_type": "markdown",
   "metadata": {
    "collapsed": false,
    "jupyter": {
     "outputs_hidden": false
    }
   },
   "source": [
    "**PC1 vs PC2**\n",
    "\n",
    "The first thing we observe in the data is that there are two distinct clusters: the purple points indicate the benign tumours, labelled as 2, and the yellow points represent the malignant tumours, labelled as 4. On the plot, the yellow cluster is on the left side, while the purple cluster is on the right. In section 2.2, we stated that by iteratively sorting the eigenpairs by eigenvalues, we would then have a ranking of importance for each of our new components. Based on this, we can see that the variance is maximised along PC1, while the component along PC2 still explains the variance in the data, although less PC1.\n",
    "\n",
    "Analysing the contribution of the raw features to the components, we can observe that they are all negatively correlated with PC1, pointing all the way to the left (the direction of malignant tumours). The length and direction of the vectors, however, differ. For instance, **Bare_nuclei**, which has the longest vector, points strongly negative towards PC1 but appears to have a positive correlation with PC2. This suggests that as **Bare_nuclei** values increase, the data points fall more towards PC1's left side, which is associated with malignant tumours. Overall, this feature can be very helpful in differentiating between the two tumour variants. Next, **marginal_adhesion**, shares the same correlations with the axis as the Bare_nuclei, but its vector is much shorter, and so is less able to discriminate between the two components, though it is still moderately long enough to be considered a factor in tumour type differentiation. **Bland_chromatin** and **Clump_thickness** vectors are closely aligned with one another and nearly entirely uncorrelated with PC2. Because they are among the shortest of all the vectors, they may not be particularly significant in distinguishing between the tumours.\n",
    "\n",
    "Both the **Uniformity_of_cell_shape** and **Uniformity_of_cell_size** vectors are very similar; they have negative correlations with PC1 and PC2, and their length suggests that they may account for a sizable portion of PC1's variance, indicating that they are important characteristics in the distinction between benign and malignant tumours. With a somewhat short vector heading to the left, **Single_epithlial_cell_size** indicates a moderately negative connection with PC1 and PC2. On the other hand, **Normal_nucleoli** has a long vector that is pointing towards the left of PC1, but more significantly downwards on PC2 indicating a strong negative correlation with PC2. Finally, **Mitoses** has a short vector pointing slightly downwards to the left of PC1, suggesting that this feature has small influence on both PC1 and PC2, implying it's less critical in distinguishing between the two types of tumors.\n"
   ]
  },
  {
   "cell_type": "code",
   "execution_count": 1660,
   "metadata": {
    "collapsed": false,
    "jupyter": {
     "outputs_hidden": false
    }
   },
   "outputs": [
    {
     "data": {
      "text/plain": "<Figure size 1600x900 with 1 Axes>",
      "image/png": "[encoded data removed]"
     },
     "metadata": {},
     "output_type": "display_data"
    }
   ],
   "source": [
    "pca.biplot_2D(X_train, y_train, PC=(0,2), figsize=(16,9))"
   ]
  },
  {
   "cell_type": "code",
   "execution_count": 1661,
   "metadata": {
    "collapsed": false,
    "jupyter": {
     "outputs_hidden": false
    }
   },
   "outputs": [
    {
     "data": {
      "text/plain": "<Figure size 1600x900 with 1 Axes>",
      "image/png": "[encoded data removed]"
     },
     "metadata": {},
     "output_type": "display_data"
    }
   ],
   "source": [
    "pca.biplot_2D(X_train, y_train, PC=(1,2), figsize=(16,9))"
   ]
  },
  {
   "cell_type": "markdown",
   "metadata": {
    "collapsed": false,
    "jupyter": {
     "outputs_hidden": false
    }
   },
   "source": [
    "**2.6 3D Biplot**"
   ]
  },
  {
   "cell_type": "code",
   "execution_count": 1662,
   "metadata": {
    "collapsed": false,
    "jupyter": {
     "outputs_hidden": false
    }
   },
   "outputs": [
    {
     "data": {
      "application/vnd.plotly.v1+json": {
       "data": [
        {
         "marker": {
          "color": [
           4,
           2,
           4,
           4,
           2,
           4,
           2,
           4,
           2,
           2,
           4,
           4,
           2,
           2,
           2,
           4,
           2,
           4,
           2,
           2,
           2,
           2,
           2,
           2,
           2,
           2,
           2,
           2,
           4,
           2,
           2,
           4,
           2,
           4,
           2,
           4,
           4,
           4,
           2,
           4,
           4,
           4,
           2,
           4,
           2,
           2,
           4,
           2,
           2,
           2,
           2,
           2,
           2,
           2,
           2,
           2,
           4,
           2,
           2,
           4,
           2,
           4,
           2,
           4,
           2,
           4,
           2,
           2,
           4,
           2,
           2,
           2,
           2,
           2,
           2,
           2,
           2,
           2,
           2,
           4,
           4,
           4,
           2,
           4,
           2,
           4,
           2,
           4,
           2,
           2,
           2,
           2,
           4,
           2,
           4,
           2,
           2,
           2,
           4,
           2,
           4,
           4,
           2,
           2,
           2,
           4,
           4,
           4,
           4,
           2,
           4,
           2,
           2,
           2,
           4,
           4,
           4,
           2,
           2,
           4,
           2,
           2,
           2,
           4,
           4,
           2,
           4,
           2,
           4,
           2,
           2,
           2,
           2,
           2,
           4,
           4,
           2,
           2,
           4,
           2,
           4,
           2,
           4,
           4,
           2,
           4,
           2,
           2,
           4,
           2,
           2,
           4,
           2,
           2,
           2,
           2,
           2,
           2,
           2,
           4,
           2,
           2,
           4,
           2,
           2,
           2,
           4,
           4,
           4,
           4,
           4,
           2,
           4,
           2,
           2,
           2,
           2,
           2,
           4,
           4,
           2,
           4,
           4,
           4,
           2,
           2,
           2,
           4,
           2,
           4,
           4,
           2,
           4,
           2,
           2,
           2,
           2,
           2,
           4,
           2,
           4,
           2,
           2,
           4,
           4,
           2,
           2,
           2,
           4,
           4,
           4,
           2,
           2,
           2,
           2,
           4,
           2,
           4,
           2,
           2,
           2,
           2,
           2,
           2,
           2,
           2,
           2,
           4,
           4,
           4,
           2,
           2,
           2,
           4,
           4,
           2,
           2,
           2,
           2,
           2,
           2,
           2,
           4,
           2,
           4,
           2,
           2,
           2,
           4,
           4,
           2,
           4,
           2,
           2,
           2,
           2,
           4,
           2,
           4,
           2,
           4,
           2,
           2,
           4,
           2,
           2,
           2,
           2,
           2,
           2,
           2,
           2,
           4,
           4,
           2,
           2,
           2,
           4,
           2,
           4,
           2,
           2,
           2,
           2,
           2,
           4,
           4,
           2,
           2,
           4,
           2,
           2,
           4,
           4,
           2,
           4,
           4,
           2,
           2,
           2,
           2,
           2,
           2,
           2,
           2,
           2,
           2,
           2,
           2,
           2,
           2,
           4,
           4,
           2,
           2,
           2,
           2,
           2,
           2,
           4,
           2,
           2,
           2,
           2,
           2,
           2,
           4,
           4,
           2,
           2,
           2,
           2,
           2,
           2,
           4,
           4,
           2,
           2,
           4,
           2,
           2,
           2,
           2,
           4,
           2,
           2,
           4,
           4,
           2,
           2,
           4,
           2,
           2,
           2,
           4,
           2,
           2,
           4,
           2,
           4,
           2,
           2,
           4,
           4,
           4,
           2,
           2,
           2,
           4,
           2,
           2,
           2,
           2,
           4,
           2,
           2,
           2,
           2,
           4,
           2,
           4,
           2,
           4,
           4,
           2,
           2,
           2,
           4,
           4,
           4,
           2,
           2,
           2,
           2,
           4,
           2,
           2,
           4,
           2,
           4,
           2,
           4,
           2,
           2,
           4,
           2,
           2,
           2,
           2,
           2,
           2,
           4,
           2,
           2,
           2,
           4,
           4,
           4,
           4,
           4,
           2,
           2,
           2,
           2,
           4,
           4,
           4,
           4,
           2,
           2,
           4,
           2,
           2,
           2,
           2,
           2,
           4,
           2,
           2,
           4,
           2,
           4,
           2,
           2,
           2,
           2,
           2,
           2,
           4,
           4,
           2,
           2,
           4,
           2,
           2,
           2,
           2,
           2,
           2,
           4,
           4,
           4,
           4,
           2,
           2,
           2,
           2,
           2,
           2,
           4,
           2,
           2,
           2,
           2,
           4,
           2,
           2,
           2,
           4,
           4,
           2,
           4,
           4,
           4,
           2,
           4,
           2,
           2,
           4,
           2,
           2,
           2,
           2,
           2,
           4,
           2,
           2,
           2,
           4,
           4,
           2,
           2,
           2,
           2,
           2,
           2,
           2,
           4,
           4,
           2,
           2,
           2,
           2,
           2,
           2,
           2,
           2,
           2,
           2,
           4,
           2,
           2,
           2,
           2
          ],
          "opacity": 0.8,
          "size": 5
         },
         "mode": "markers",
         "x": [
          -0.38566023666037136,
          0.19859811937349897,
          -0.5404518839904244,
          -0.5010902760654726,
          0.1682305164470413,
          -0.18705014482137935,
          -0.20680818605876866,
          -0.622222287394268,
          0.20285857487868877,
          0.19056150394092844,
          -0.5360744458546862,
          -0.004999594810470047,
          0.17614518626574874,
          -0.2900082634020327,
          -0.18872312062031707,
          -0.5987697375135739,
          0.21741367386971713,
          -0.5741691046862871,
          0.22635138576164088,
          0.1681823947091914,
          0.19096780422366313,
          0.2264476292373406,
          0.19096780422366313,
          0.17491795222341974,
          0.1962594791276129,
          0.12848480807082072,
          0.18661668914047452,
          0.17457772419664416,
          -0.5742202118029219,
          0.1792213987821871,
          0.12338359773865516,
          -0.09796357477449084,
          0.2500366835959924,
          -0.21862235879671932,
          0.07074167063955165,
          -0.6734612314161854,
          -0.3892997815346766,
          -0.29554040771269013,
          0.23819403467881664,
          -0.26151499653567134,
          -0.7084489185128802,
          -0.5772696686138495,
          0.19101592596151298,
          -0.46690534556846075,
          0.2600673191406684,
          0.1748221619611486,
          0.02981924673820959,
          0.2500366835959924,
          0.22635138576164088,
          0.20281045314083893,
          0.18656856740262467,
          0.22635138576164088,
          0.23824215641666652,
          0.1953954758128428,
          -0.1352540914823039,
          0.23819403467881664,
          -0.45185234836023513,
          0.19642256183190468,
          0.20276233140298902,
          -0.38254027312685124,
          0.1984112163198004,
          -0.2984925538629792,
          0.19859811937349897,
          -0.6227902821515762,
          0.24822467022349265,
          -0.6134603694970885,
          0.1779571996382485,
          0.2146049803201648,
          -0.489382776526727,
          0.14887270411202377,
          0.1748221619611486,
          0.2264476292373406,
          0.20281045314083893,
          0.20276233140298902,
          0.10752297206537602,
          0.20285857487868877,
          0.2264476292373406,
          0.19101592596151298,
          0.17424717569469983,
          -0.5083427676067309,
          -0.24729234548615722,
          -0.7140444363298261,
          0.19096780422366313,
          -0.7311306384131018,
          0.21284108868551488,
          -0.3640395213022767,
          0.22422394995789643,
          -0.5239192451557103,
          0.22635138576164088,
          -0.29545138382434905,
          0.20235066549604466,
          0.23819403467881664,
          -0.10984141262654659,
          0.17917327704433722,
          -0.3090123388180917,
          0.22635138576164088,
          0.1748221619611486,
          0.23819403467881664,
          -0.423355776863981,
          0.2500366835959924,
          -0.4658000753646471,
          -0.24184995359903555,
          0.19983048410010026,
          0.17496094327699727,
          0.2085487987629878,
          -0.7008856587020144,
          -0.7399326808593316,
          -0.6088373393017708,
          -0.5847753803717295,
          -0.020468903466877252,
          -0.6785164895782988,
          0.23819403467881664,
          0.2146049803201648,
          0.1980369532784053,
          -0.36497163176076114,
          -0.49982079322427736,
          -0.4169004213996647,
          0.20801946708523142,
          0.12576990650896253,
          -0.5141891265134396,
          0.22635138576164088,
          -0.21181856655177425,
          0.20457434477548883,
          -0.1925264749086556,
          -0.3541481106295604,
          0.23819403467881664,
          -0.3690306358087255,
          0.12273690704016237,
          -0.3100536304662648,
          0.14243417702642178,
          0.23819403467881664,
          0.2146049803201648,
          0.17500906501484717,
          0.18685171393202293,
          -0.4616738487320452,
          -0.19929310064122818,
          0.12945584834285354,
          0.20285857487868877,
          -0.4440629478799614,
          0.2146531020580147,
          -0.3136869858396695,
          0.11156479699649387,
          -0.28845187146225404,
          -0.058798067009102055,
          0.1207669379270737,
          -0.32903979218905577,
          -0.21215432024937705,
          0.24000604805131645,
          -0.44969791677723386,
          0.2500366835959924,
          0.2264476292373406,
          -0.3294997973306676,
          0.1985499976356491,
          0.2146049803201648,
          0.10991716018104229,
          0.2146531020580147,
          0.22458749412699094,
          0.2264476292373406,
          0.18007316536421708,
          -0.3089666174162944,
          0.2246356158648408,
          0.18702835504741888,
          -0.2647937209140447,
          0.17079673124750722,
          0.16316641609767135,
          0.20618031278548493,
          -0.3698757507048938,
          -0.36487881297260305,
          -0.16401607291350437,
          -0.3054446653556986,
          -0.47946339603076454,
          0.2500366835959924,
          -0.3295371660207787,
          0.1761933080035986,
          0.20140681292305132,
          0.23638202130631683,
          0.16316641609767135,
          0.22417582822004659,
          -0.35079546128392175,
          -0.28424950655066206,
          0.2162109483301609,
          -0.5026570027081214,
          -0.3588986586075229,
          -0.3463949138450546,
          0.2221871737321508,
          0.18685171393202293,
          0.1819125678902765,
          -0.40138977788167396,
          0.2500366835959924,
          -0.28137957433666466,
          -0.053490343218087835,
          0.24822467022349265,
          -0.24489442314561158,
          0.19101592596151298,
          0.2364782647820166,
          0.2500366835959924,
          0.2146531020580147,
          0.2500366835959924,
          -0.4740549134089089,
          0.22399918710465058,
          -0.024465120698963158,
          0.20281045314083893,
          0.1325333667586365,
          -0.5350550119259383,
          -0.3391564468198148,
          0.2146531020580147,
          0.2264476292373406,
          0.13536502797167962,
          -0.3592520988687674,
          -0.0974760468328984,
          -0.2551440144348146,
          0.011247766851818547,
          0.16293139130612297,
          0.17917327704433722,
          0.1737259576146142,
          0.019886986171652594,
          0.1673787498650113,
          -0.6136993313375186,
          0.23824215641666652,
          0.20285857487868877,
          0.1322380727816096,
          0.21284108868551488,
          0.14769710744126416,
          0.1690822830290713,
          0.2146049803201648,
          0.2500366835959924,
          0.2146049803201648,
          -0.34874966774586436,
          -0.2912473121921817,
          -0.4925871930150865,
          0.20053865212354485,
          0.21233317930287077,
          0.17842704639734303,
          -0.27569902761121373,
          -0.6978177512715739,
          0.19632631835620493,
          0.18879224668206881,
          0.2500366835959924,
          0.19177144906784327,
          0.2146049803201648,
          0.2500366835959924,
          0.17212797616460956,
          -0.42084076527384656,
          0.2500366835959924,
          -0.6041255999633687,
          0.07785912555576892,
          0.23274671524909363,
          0.18685171393202293,
          -0.3202602176980339,
          -0.19193620887089727,
          0.19096780422366313,
          -0.5720591917988529,
          0.046431089748995784,
          0.2146049803201648,
          0.23819403467881664,
          0.17917327704433722,
          -0.4389862556394251,
          0.20281045314083893,
          -0.07983694917844708,
          0.23824215641666652,
          -0.0567130753840534,
          0.2146049803201648,
          0.21455685858231496,
          -0.28480894672558027,
          0.2500366835959924,
          0.09284734025679299,
          0.23819403467881664,
          0.20462246651333868,
          0.23819403467881664,
          0.24822467022349265,
          0.16578820659352517,
          0.13810176738738716,
          -0.22965820076414512,
          -0.08100769845462423,
          0.16962627731946997,
          0.2500366835959924,
          0.20618031278548493,
          -0.292008798012042,
          0.23638202130631683,
          -0.162481291107452,
          0.2246356158648408,
          0.19101592596151298,
          0.20276233140298902,
          0.20281045314083893,
          0.20276233140298902,
          -0.44290810680418774,
          -0.31098159581613166,
          0.23824215641666652,
          0.184959744404336,
          -0.5812799712942289,
          0.21152876780372645,
          0.18547236305609024,
          -0.2221387788852072,
          -0.4792513531116585,
          0.20281045314083893,
          -0.09812673470544396,
          -0.4378259886865404,
          0.18475655403012486,
          0.2180229617026607,
          0.19101592596151298,
          0.1189432362033068,
          0.2500366835959924,
          0.1991270253457658,
          0.2146049803201648,
          0.2500366835959924,
          0.21455685858231496,
          0.2146049803201648,
          0.18680359219417306,
          0.20276233140298902,
          0.23042208322483956,
          0.23819403467881664,
          -0.30010109603696433,
          -0.732350523648038,
          0.14715955515100554,
          0.17917327704433722,
          0.17772151508869977,
          0.20281045314083893,
          0.2500366835959924,
          0.1761933080035986,
          -0.392532017910972,
          0.2146531020580147,
          0.1412984972600293,
          0.19101592596151298,
          0.20285857487868877,
          0.19096780422366313,
          0.1505288821931981,
          -0.19460806467053,
          -0.24774405404682237,
          -0.06564798886101872,
          0.1997823623622504,
          0.20053865212354485,
          0.19096780422366313,
          0.0954933732048413,
          0.2500366835959924,
          -0.46826168524024436,
          -0.5063304302191372,
          0.22635138576164088,
          0.2209040663319178,
          -0.3839117531096471,
          0.2146049803201648,
          0.22639950749949073,
          0.18956416400587553,
          0.0795085218135243,
          -0.4193778118507586,
          0.2600673191406684,
          0.2146049803201648,
          -0.44686935335741523,
          -0.2950566792167311,
          0.22635138576164088,
          0.23819403467881664,
          -0.5674063471646804,
          0.18680359219417306,
          0.22635138576164088,
          0.20285857487868877,
          -0.6880156115013017,
          0.2500366835959924,
          0.06937944756285637,
          -0.2482967243255153,
          0.22635138576164088,
          -0.4065630685719787,
          0.23819403467881664,
          0.16979159923858453,
          -0.16627899171560107,
          -0.1837596975584436,
          -0.45712537045574503,
          0.23638202130631683,
          0.15460296724714281,
          0.18793971344507462,
          -0.31603828359508657,
          0.22639950749949073,
          0.2124294227785705,
          0.20457434477548883,
          0.2221871737321508,
          -0.1035622256824763,
          0.15706168709715493,
          0.19816677855529602,
          0.23638202130631683,
          0.23824215641666652,
          -0.3825028559696321,
          0.2146531020580147,
          -0.08936411287587898,
          0.10355427829693545,
          -0.5271594599586369,
          -0.493321707473344,
          0.1450321193472611,
          0.1572877558497454,
          0.24822467022349265,
          -0.38365368992671306,
          -0.24432569619601593,
          -0.42474624538360356,
          0.11685471443409108,
          0.18480467576797474,
          0.23819403467881664,
          0.1673787498650113,
          -0.2771835807028569,
          -0.1201155174140287,
          0.22635138576164088,
          -0.43782491348767066,
          0.21455685858231496,
          -0.4608071621764891,
          0.20276233140298902,
          -0.7250062266823392,
          0.20276233140298902,
          0.11089425812298657,
          -0.2773524053267291,
          0.2180229617026607,
          0.19316720994027192,
          0.1643506590864228,
          0.18259125842683313,
          -0.06899951613878233,
          0.1673787498650113,
          -0.3346081690248562,
          0.14459388873201262,
          0.22635138576164088,
          0.22639950749949073,
          -0.11827102729163147,
          -0.15999107811910782,
          -0.4894506220280583,
          -0.08887414876374858,
          -0.10601661925574814,
          0.24822467022349265,
          0.22635138576164088,
          0.18920391258901323,
          -0.012901518322359456,
          -0.25645753676461636,
          -0.1872105264418705,
          -0.3104636705391431,
          -0.41092680258788794,
          0.24822467022349265,
          0.1590022040681813,
          -0.047102026203664,
          0.23643014304416674,
          0.042134532041867706,
          0.1435406590902783,
          0.20285857487868877,
          0.23824215641666652,
          -0.4452830903779053,
          0.2180229617026607,
          0.2264476292373406,
          -0.30576243289848865,
          0.08987841558834066,
          -0.2535028809503242,
          0.2264476292373406,
          0.2006348955992446,
          0.13711865766802697,
          0.22635138576164088,
          0.16663251921801714,
          0.2460491126818983,
          -0.4270390857036402,
          -0.4100404544074489,
          0.17917327704433722,
          0.1769977195027429,
          -0.38876402048738357,
          0.18087681020839722,
          0.23638202130631683,
          0.21455685858231496,
          0.23819403467881664,
          0.22635138576164088,
          0.17917327704433722,
          -0.46670520003783755,
          -0.2677431021710115,
          -0.5927529480798198,
          -0.406483260019534,
          0.18316621358264099,
          0.2124294227785705,
          0.16255712826472782,
          0.19013911916168344,
          0.16885621427648084,
          0.22635138576164088,
          -0.03387039850428228,
          0.20276233140298902,
          0.2146049803201648,
          0.2500366835959924,
          0.18742033398465463,
          -0.44290810680418774,
          0.2600673191406684,
          0.2115768895415763,
          0.2500366835959924,
          -5.982854351227538E-4,
          -0.1435812795762031,
          0.2146049803201648,
          -0.35729350954020994,
          -0.3945718511435193,
          -0.23658018027680802,
          0.22639950749949073,
          -0.48414577938120135,
          0.1708448529853571,
          0.2500366835959924,
          -0.1827901206420842,
          0.22635138576164088,
          0.20281045314083893,
          0.18036757914738896,
          0.1748221619611486,
          0.11633007624642526,
          -0.11094497596084879,
          0.1590022040681813,
          0.21087343078724183,
          0.2500366835959924,
          -0.36959509883259206,
          -0.48351000043205977,
          0.2600673191406684,
          0.11625297507953067,
          0.18087681020839722,
          0.08489394622370278,
          0.16316641609767135,
          0.20285857487868877,
          0.2146531020580147,
          -0.24654140897295368,
          -0.3652838464345577,
          0.22635138576164088,
          0.2246356158648408,
          0.24822467022349265,
          0.20276233140298902,
          0.2146049803201648,
          0.20109468324403884,
          0.1590022040681813,
          0.14825247880375783,
          0.23819403467881664,
          0.18619430436122952,
          -0.20202683973148594,
          0.19101592596151298,
          0.2146531020580147,
          0.19101592596151298,
          0.2500366835959924
         ],
         "y": [
          0.20653908824962547,
          -0.020282635625331974,
          -0.26860814976035896,
          0.10555241397689473,
          0.0942631870104174,
          0.36877569191727183,
          -0.3617661702562046,
          0.12550797176371536,
          -0.005462392324262191,
          -0.0369634036827343,
          0.11322529937278926,
          -0.02604109897044791,
          -0.03601103342793697,
          0.028078459090122108,
          0.29373347479998574,
          -0.5459520264059149,
          -0.03505779795590496,
          -0.0803862828013823,
          -0.012513987262327407,
          0.09161342727146637,
          -0.009885874072082681,
          -0.0072144677844253385,
          -0.009885874072082681,
          -0.070237867930871,
          -0.04506773192013292,
          -0.09575395799973957,
          0.006586677742643978,
          0.1463485408260206,
          0.19285232200674096,
          -0.006360076603050067,
          -0.0038533769080179173,
          -0.18616178858203206,
          -0.008966543244588494,
          0.2993989596122734,
          0.4481750385690105,
          0.0262369229032658,
          -0.4100740450782067,
          0.2635414569645533,
          -0.010740265253457946,
          -0.3303321555361404,
          -0.13528572891058918,
          -0.5198241716147851,
          -0.007236114333131644,
          -0.008316675062626233,
          0.0018847049746800165,
          0.007462715472725556,
          -0.03905614657007002,
          -0.008966543244588494,
          -0.012513987262327407,
          -0.008112152063213222,
          0.003936918003692955,
          -0.012513987262327407,
          -0.008090505514506916,
          0.07170629939050512,
          0.03322850201245045,
          -0.010740265253457946,
          -0.3127022451144015,
          -0.01204635971796865,
          -0.010761911802164252,
          0.2844955247740102,
          0.005710640012562408,
          0.10972482167104013,
          -0.020282635625331974,
          -0.051343132735979825,
          1.1098296581056331E-4,
          -0.12152569116151729,
          -0.045088559638336016,
          -0.008988189793294792,
          -0.06201975084652956,
          0.006975147628560877,
          0.007462715472725556,
          -0.0072144677844253385,
          -0.008112152063213222,
          -0.010761911802164252,
          0.07844728035713767,
          -0.005462392324262191,
          -0.0072144677844253385,
          -0.007236114333131644,
          -0.017578622816045896,
          0.08473891479503591,
          0.3580139171010587,
          -0.08816577652063938,
          -0.009885874072082681,
          -0.05210788094250752,
          0.0027390961560552884,
          -0.1692375868369147,
          -0.0016279516160130501,
          0.10200757199029668,
          -0.012513987262327407,
          0.1294363316907767,
          -0.014252921844151013,
          -0.010740265253457946,
          0.3690167949866176,
          -0.009009836342001105,
          0.05522724398155479,
          -0.012513987262327407,
          0.007462715472725556,
          -0.010740265253457946,
          0.12788696896632315,
          -0.008966543244588494,
          0.07715529158646768,
          0.1519999546732449,
          -0.03246358941019805,
          -0.021180319904119855,
          -0.0629905839651665,
          -0.04278285193230179,
          -0.05582744092466288,
          0.011973101227311798,
          0.04219913938292727,
          -0.03231375246934559,
          -0.08284461049403098,
          -0.010740265253457946,
          -0.008988189793294792,
          -0.02113523893362306,
          -0.3373878884612434,
          -0.4792660276170794,
          0.14849093121132284,
          -0.012933750453305578,
          -0.05941862375576456,
          0.033993033259910356,
          -0.012513987262327407,
          -0.2048117773350829,
          -0.019839438012563305,
          0.2671989391641813,
          -0.03491095424949998,
          -0.010740265253457946,
          0.24108779728933905,
          0.015999128948938676,
          -0.07441779187824711,
          -0.041972055137534256,
          -0.010740265253457946,
          -0.008988189793294792,
          -0.018530560165168825,
          -0.016756838156299365,
          -0.3565743245387574,
          -0.4344379151771182,
          -0.058289493979710574,
          -0.005462392324262191,
          0.21008727622323248,
          -0.006338430054343768,
          0.38555707410828066,
          -0.026962794219376297,
          0.3305231602801074,
          -0.15112121783090257,
          -0.05018483267110227,
          0.24285729336566056,
          0.08182709942243903,
          -0.019817791463857,
          0.17171123216757764,
          -0.008966543244588494,
          -0.0072144677844253385,
          0.23643301125944774,
          -0.022932395364283004,
          -0.008988189793294792,
          0.1904413223273581,
          -0.006338430054343768,
          -7.867013129773265E-4,
          -0.0072144677844253385,
          0.09603690901928685,
          0.2094294123622287,
          0.001863058425973711,
          0.010077687784630734,
          -0.20515557706192056,
          -0.03070104372728757,
          -0.02030428217403828,
          -0.0333291569175323,
          -0.41711809178086556,
          -0.20511719093563058,
          -0.2033070871919287,
          -0.4639583264526258,
          0.05723698737954746,
          -0.008966543244588494,
          -0.15872256668379328,
          -0.03336127368898593,
          -0.04635224378794213,
          -0.001662739043058897,
          -0.02030428217403828,
          -0.004277711354964081,
          -0.272218408391915,
          0.2909326157463281,
          -0.022477908698263792,
          0.03845862270952592,
          -0.23693275675021067,
          0.4131244944236542,
          -0.022034711085495127,
          -0.016756838156299365,
          0.05930987910253577,
          -0.08392493331008499,
          -0.008966543244588494,
          0.2933501111575098,
          -0.05576792484937032,
          1.1098296581056331E-4,
          0.3794292116818854,
          -0.007236114333131644,
          0.0036367804348431646,
          -0.008966543244588494,
          -0.006338430054343768,
          -0.008966543244588494,
          -0.23205189877390134,
          -0.031112237295894175,
          0.03338284647373074,
          -0.008112152063213222,
          0.11290840094267775,
          0.030380609722711005,
          0.2796711312210833,
          -0.006338430054343768,
          -0.0072144677844253385,
          -0.030722690275993877,
          -0.2830675708589146,
          -0.013048001496867545,
          0.28348296811799584,
          -0.012375944946626234,
          0.0030392337249050645,
          -0.009009836342001105,
          0.043951555203683663,
          0.22019610282486102,
          -0.008133798611919527,
          0.04307435828250563,
          -0.008090505514506916,
          -0.005462392324262191,
          -0.010072485516894351,
          0.0027390961560552884,
          -0.02657693567293596,
          0.19666017263275437,
          -0.008988189793294792,
          -0.008966543244588494,
          -0.008988189793294792,
          0.23058113810493353,
          0.11372889150937306,
          -0.2686176402031026,
          -0.005175395633751963,
          -0.006051433363833541,
          -0.041097805280536866,
          0.2024528396564529,
          -0.38888486687514257,
          -0.017345879195870717,
          -0.0016495981647193555,
          -0.008966543244588494,
          0.08986135181130323,
          -0.008988189793294792,
          -0.008966543244588494,
          -0.019096166782949658,
          0.11747858028261268,
          -0.008966543244588494,
          -0.14211428731579043,
          -0.09418928803520821,
          0.04222112629222682,
          -0.016756838156299365,
          0.2591874861188197,
          0.05974402721870825,
          -0.009885874072082681,
          0.009909287116697545,
          -0.033501722393428246,
          -0.008988189793294792,
          -0.010740265253457946,
          -0.009009836342001105,
          0.26470224101848433,
          -0.008112152063213222,
          -0.26197810383441406,
          -0.008090505514506916,
          -0.0373608417867873,
          -0.008988189793294792,
          -0.01163794953224583,
          0.33493575134391923,
          -0.008966543244588494,
          0.0073204788951990495,
          -0.010740265253457946,
          -0.017189678273612275,
          -0.010740265253457946,
          1.1098296581056331E-4,
          -0.02038061469875404,
          0.03333086969917323,
          -0.23038660971650407,
          -0.1156767542191828,
          -0.03505601008282075,
          -0.008966543244588494,
          -0.0333291569175323,
          0.19831218087562408,
          -0.001662739043058897,
          0.0716365299684734,
          0.001863058425973711,
          -0.007236114333131644,
          -0.010761911802164252,
          -0.008112152063213222,
          -0.010761911802164252,
          0.08260621970517712,
          -0.09379324256564846,
          -0.008090505514506916,
          -0.06123850850500335,
          0.05212463584904869,
          -0.03863914661818169,
          0.040425757734651055,
          0.26615618390236256,
          0.028538352034171148,
          -0.008112152063213222,
          0.21926740400210684,
          0.06044928471144526,
          0.013014444214091998,
          -0.03155543490866285,
          -0.007236114333131644,
          0.05072536368087065,
          -0.008966543244588494,
          0.03312195353312146,
          -0.008988189793294792,
          -0.008966543244588494,
          -0.01163794953224583,
          -0.008988189793294792,
          -0.0194065978952504,
          -0.010761911802164252,
          -0.05036561373702854,
          -0.010740265253457946,
          0.15205767130055872,
          -0.09041756404407356,
          -0.03159872800607545,
          -0.009009836342001105,
          -0.04989968780568105,
          -0.008112152063213222,
          -0.008966543244588494,
          -0.03336127368898593,
          -0.021073595531672235,
          -0.006338430054343768,
          -0.056515771970841115,
          -0.007236114333131644,
          -0.005462392324262191,
          -0.009885874072082681,
          0.14195984650524598,
          0.40580766825091213,
          0.17535717661343997,
          -0.15919456009263885,
          -0.03511334914914908,
          -0.005175395633751963,
          -0.009885874072082681,
          -0.012144813447907438,
          -0.008966543244588494,
          -0.5291658119606064,
          0.026045598247346126,
          -0.012513987262327407,
          0.040447404283357365,
          0.07382758657841737,
          -0.008988189793294792,
          -0.00986422752337637,
          -0.04812596579681159,
          -0.12646575134675236,
          0.19572328515319798,
          0.0018847049746800165,
          -0.008988189793294792,
          0.037906282903897734,
          -0.07924741302525179,
          -0.012513987262327407,
          -0.010740265253457946,
          0.13820965397451018,
          -0.0194065978952504,
          -0.012513987262327407,
          -0.005462392324262191,
          -0.013298485777670436,
          -0.008966543244588494,
          -0.19312702039129986,
          0.11231974806335199,
          -0.012513987262327407,
          0.1544193521846141,
          -0.010740265253457946,
          -0.09577652899873654,
          0.1883203947022287,
          0.27562361438944055,
          0.03779485092378531,
          -0.001662739043058897,
          -0.016002213921430367,
          -0.036887071158018536,
          -0.1150819315175817,
          -0.00986422752337637,
          -7.519138859314726E-4,
          -0.019839438012563305,
          -0.022034711085495127,
          0.3741364560544429,
          0.026504986585453354,
          0.14459646536585746,
          -0.001662739043058897,
          -0.008090505514506916,
          0.21132159078468882,
          -0.006338430054343768,
          0.14949234525174743,
          -0.04882393078906903,
          -0.02584308089698946,
          -0.24549614147520907,
          -0.020712692359761097,
          0.19753621036283595,
          1.1098296581056331E-4,
          0.3444377416997152,
          0.40720579676888846,
          -0.4353507536906539,
          -0.14051167085135405,
          0.015664203953043035,
          -0.010740265253457946,
          -0.008133798611919527,
          -0.2806477593001669,
          -0.035038180234954315,
          -0.012513987262327407,
          0.1089207479961676,
          -0.01163794953224583,
          0.06590384326541962,
          -0.010761911802164252,
          -0.12142814940776767,
          -0.010761911802164252,
          0.01422540694006922,
          0.30319194148292566,
          -0.03155543490866285,
          -0.03945784528193493,
          -0.03513499569785539,
          -0.03157708145736915,
          -0.29431133240287005,
          -0.008133798611919527,
          -0.1112168183819842,
          -0.03397284405977162,
          -0.012513987262327407,
          -0.00986422752337637,
          -0.18266888032822484,
          0.16817064499804238,
          -0.45548794057223974,
          0.36734105205117024,
          -0.09847546506321354,
          1.1098296581056331E-4,
          -0.012513987262327407,
          0.0018414118772674057,
          -0.2493678528295064,
          0.27488098376708725,
          0.25600253635757103,
          -0.31220635699338795,
          -0.27860101175031404,
          1.1098296581056331E-4,
          -0.029825005997205993,
          -0.1552951398649293,
          9.870206958921338E-4,
          -0.22412932933049062,
          -0.059851463873077465,
          -0.005462392324262191,
          -0.008090505514506916,
          0.19712966105751578,
          -0.03155543490866285,
          -0.0072144677844253385,
          0.4207281221954862,
          -0.06558104008540865,
          -0.4294681063602684,
          -0.0072144677844253385,
          1.2412384415009785E-4,
          0.010377825353480523,
          -0.012513987262327407,
          -0.040221767550455284,
          0.008347258873173884,
          0.14941182310109546,
          0.05545075012079988,
          -0.009009836342001105,
          -7.735604346377781E-4,
          -0.15920795949092317,
          0.19578413490267277,
          -0.001662739043058897,
          -0.01163794953224583,
          -0.010740265253457946,
          -0.012513987262327407,
          -0.009009836342001105,
          -0.04171811912557086,
          -0.27851053603266424,
          0.039315075889191226,
          -0.28040346624615886,
          -0.04991015802842836,
          -7.519138859314726E-4,
          -0.023806645221280395,
          -0.06645904236787079,
          0.025628948855371782,
          -0.012513987262327407,
          -0.19524489569238884,
          -0.010761911802164252,
          -0.008988189793294792,
          -0.008966543244588494,
          0.10633390362602987,
          0.08260621970517712,
          0.0018847049746800165,
          -0.03598938687923065,
          -0.008966543244588494,
          0.03452353442224014,
          -0.04731769582142798,
          -0.008988189793294792,
          0.09260879751429425,
          0.24835893680255777,
          0.23072267939497304,
          -0.00986422752337637,
          0.09175353561531543,
          -0.028051283988336534,
          -0.008966543244588494,
          0.2622856306636438,
          -0.012513987262327407,
          -0.008112152063213222,
          -0.025990565288956855,
          0.007462715472725556,
          -0.0690183331939669,
          -0.08634838678769705,
          -0.029825005997205993,
          0.02959615606408885,
          -0.008966543244588494,
          -0.5518249614309895,
          0.12157851839638989,
          0.0018847049746800165,
          -0.04391238433940465,
          0.19578413490267277,
          -0.09145399017779855,
          -0.02030428217403828,
          -0.005462392324262191,
          -0.006338430054343768,
          0.3383607224046412,
          0.1138950108415773,
          -0.012513987262327407,
          0.001863058425973711,
          1.1098296581056331E-4,
          -0.010761911802164252,
          -0.008988189793294792,
          0.00626489362508789,
          -0.029825005997205993,
          -0.04329129048038449,
          -0.010740265253457946,
          -0.022908960942492514,
          0.11462317154729783,
          -0.007236114333131644,
          -0.006338430054343768,
          -0.007236114333131658,
          -0.008966543244588508
         ],
         "z": [
          0.17167215823792406,
          0.015149673130950912,
          -0.0660017216120623,
          -0.2679513267380923,
          0.06340601421934024,
          -0.04276580781042855,
          -0.2094024807611333,
          0.09282704832051607,
          0.14649154145205565,
          -0.19321753723711324,
          -0.2229358145903473,
          0.023589970630333298,
          0.055555703565216254,
          0.04944749745749666,
          -0.04434189437499888,
          -0.3238775775568494,
          -0.11214998690210029,
          0.12923008699354338,
          -0.12501340515882864,
          -0.005990646567134032,
          0.07405403239807494,
          0.013779916414119927,
          0.07405403239807494,
          -0.05775196056520982,
          -0.13493170309394678,
          -0.037405430097840434,
          0.021977112415270922,
          -0.0067533832552417825,
          0.16257319394954253,
          0.20980650570351705,
          0.22241430668900536,
          0.16178801713202645,
          -0.11893170862381579,
          0.396677029436888,
          -0.1866133041669138,
          -0.08436785067638941,
          -0.18852878592652708,
          -0.02546083604164729,
          -0.1219725568913222,
          -0.2222803372181674,
          0.05281258814397585,
          0.06727872102942142,
          0.14345069318454923,
          -0.334033676896203,
          -0.11562560931210973,
          0.08833292493423876,
          0.09052721636922843,
          -0.11893170862381579,
          -0.12501340515882864,
          0.07709488066558137,
          -0.04741954837120334,
          -0.12501340515882864,
          -0.052575896104847926,
          -0.139232773693469,
          -0.08260090808855339,
          -0.1219725568913222,
          -0.1400806336082492,
          -0.010888786860451112,
          0.007698219879107097,
          0.07592099022549566,
          -0.04437870010369693,
          -0.06692369400247801,
          0.015149673130950912,
          -0.30357067161461004,
          -0.11866645757961615,
          0.08988546282054041,
          0.055290452521016636,
          0.01073906814661352,
          0.1638046930309021,
          0.11480183181686392,
          0.08833292493423876,
          0.013779916414119927,
          0.07709488066558137,
          0.007698219879107097,
          -0.05736754136323539,
          0.14649154145205565,
          0.013779916414119927,
          0.14345069318454923,
          0.13568262063325237,
          -0.25247223149656406,
          0.3060683994150225,
          -0.2914833593480628,
          0.07405403239807494,
          -0.016141811337073327,
          0.0804009799772874,
          0.35275363672272003,
          -0.08165520436375637,
          -0.23650832081607792,
          -0.12501340515882864,
          0.056512480608098936,
          -0.08800215194296881,
          -0.1219725568913222,
          0.020990375587747613,
          0.1404098449170428,
          -0.2327461890732191,
          -0.12501340515882864,
          0.08833292493423876,
          -0.1219725568913222,
          -0.5425055253222386,
          -0.11893170862381579,
          0.2029564077501415,
          0.12762483386620924,
          0.0616374001002291,
          0.07846463738241231,
          -0.1589692145570396,
          5.502076934051334E-4,
          -0.07066477471182893,
          -0.2407730715959769,
          -0.01621227168621297,
          -0.21953376404572342,
          -0.2823608145455435,
          -0.1219725568913222,
          0.01073906814661352,
          0.08250684567046593,
          0.10095098465946867,
          0.10268158774756622,
          0.12413600676772504,
          0.016416284195697697,
          0.15701413662798022,
          0.012012738708972959,
          -0.12501340515882864,
          0.11940833750979929,
          0.007432968834907462,
          0.0269017206685693,
          -0.46652892767621273,
          -0.1219725568913222,
          -0.1696798918632906,
          -0.0022110991541925812,
          -0.10556200447256568,
          0.22403968067707636,
          -0.1219725568913222,
          0.01073906814661352,
          0.14786129816888657,
          0.150902146436393,
          0.031279237154411575,
          -0.03345883808583523,
          -0.03613854375845093,
          0.14649154145205565,
          0.11891767087873428,
          0.08013572893308779,
          0.10382417831372809,
          0.06840645513442398,
          -0.12671601874426727,
          0.39097980568618973,
          0.3380117978112192,
          -0.05632640584840419,
          0.06777585825179763,
          -0.12223780793552182,
          -0.09508783622326537,
          -0.11893170862381579,
          0.013779916414119927,
          0.45749447467776133,
          -0.05424698765552342,
          0.01073906814661352,
          -0.025761209548388026,
          0.08013572893308779,
          -0.05535149332815472,
          0.013779916414119927,
          0.06644686248684666,
          0.2740082316020959,
          0.014045167458319564,
          0.11767748423734682,
          0.2695348497583385,
          0.08591609063425613,
          0.14482044990138015,
          -0.11315134692264746,
          0.13321160292473833,
          0.21499788187920746,
          -0.14004350822766698,
          0.39355255219799296,
          0.09095212289032713,
          -0.11893170862381579,
          -0.04906201923136084,
          0.12495236435169052,
          -0.1077393819177629,
          -0.12170730584712258,
          0.14482044990138015,
          -0.15105186515023064,
          0.2109989794014515,
          -0.23205269569646966,
          -0.1098452476109414,
          -0.04600800623907656,
          0.06417499365095565,
          0.136911657858473,
          -0.11756195190698486,
          0.150902146436393,
          -0.18675712972000177,
          -0.2507981248565127,
          -0.11893170862381579,
          -0.0933696976195597,
          0.39095454386273437,
          -0.11866645757961615,
          0.022914208844938725,
          0.14345069318454923,
          0.017086015725825972,
          -0.11893170862381579,
          0.08013572893308779,
          -0.11893170862381579,
          0.25826040950421447,
          -0.11782720295118446,
          -0.00929292258418928,
          0.07709488066558137,
          -0.0012382725982730777,
          -0.27014726968451813,
          -0.3189419594872843,
          0.08013572893308779,
          0.013779916414119927,
          0.21558686740468538,
          -0.008388905360459957,
          0.4454841297702775,
          -0.5375780576389989,
          0.1428974070242789,
          0.015895415880258074,
          0.1404098449170428,
          0.13660625996142864,
          0.4461029353692172,
          0.20676565743601064,
          -0.010407838011779197,
          -0.052575896104847926,
          0.14649154145205565,
          0.09656875402820485,
          0.0804009799772874,
          -0.09830328477467652,
          -0.0799536289973302,
          0.01073906814661352,
          -0.11893170862381579,
          0.01073906814661352,
          -0.15965195934759993,
          0.15543440932565392,
          -0.21805420079323104,
          -0.08773690089876922,
          -0.1540927134177371,
          0.027011731367132065,
          0.10190625742087833,
          -0.0789876271503398,
          -0.1496821084333997,
          0.04801557240667293,
          -0.11893170862381579,
          -0.13870227160506976,
          0.01073906814661352,
          -0.11893170862381579,
          -0.019009971642423202,
          0.23232422230629107,
          -0.11893170862381579,
          -0.08005222092460385,
          0.15177169472139906,
          -0.12577614184693636,
          0.150902146436393,
          0.02798518578684652,
          0.3298628699447092,
          0.07405403239807494,
          -0.20644134239919748,
          0.3276979638613981,
          0.01073906814661352,
          -0.1219725568913222,
          0.1404098449170428,
          0.265028497919371,
          0.07709488066558137,
          0.0599903440426708,
          -0.052575896104847926,
          0.14000095331247323,
          0.01073906814661352,
          -0.05865759263986078,
          0.3304357678557491,
          -0.11893170862381579,
          0.027694762615034188,
          -0.1219725568913222,
          0.07682962962138175,
          -0.1219725568913222,
          -0.11866645757961615,
          -0.03759697838198142,
          -0.011309606414039162,
          -0.017947051606751065,
          -0.28058534488675785,
          0.15123377492681186,
          -0.11893170862381579,
          -0.11315134692264746,
          0.17541527879963342,
          -0.12170730584712258,
          -0.23895823722649845,
          0.014045167458319564,
          0.14345069318454923,
          0.007698219879107097,
          0.07709488066558137,
          0.007698219879107097,
          0.09867085049089645,
          -0.191715069337873,
          -0.052575896104847926,
          -0.02625758951910386,
          0.05573761419192578,
          -0.14351173399168732,
          8.537866559865325E-4,
          0.31949741471290877,
          0.16633894703146762,
          0.07709488066558137,
          -0.06080159630649204,
          -0.2877684811562539,
          -0.04715429732700372,
          -0.11011049865514104,
          0.14345069318454923,
          0.0031621918919596116,
          -0.11893170862381579,
          0.0036293838792933043,
          0.01073906814661352,
          -0.11893170862381579,
          -0.05865759263986078,
          0.01073906814661352,
          0.08150548564991873,
          0.007698219879107097,
          -0.15262226697782713,
          -0.1219725568913222,
          0.009986745505422133,
          -0.1663412085380863,
          0.14923105488571756,
          0.1404098449170428,
          -0.11382107845277575,
          0.07709488066558137,
          -0.11893170862381579,
          0.12495236435169052,
          0.3555121057671439,
          0.08013572893308779,
          -0.03309769549094451,
          0.14345069318454923,
          0.14649154145205565,
          0.07405403239807494,
          -0.03913879082585627,
          0.30589887631671914,
          -0.015464596529078799,
          0.26714143584502087,
          -0.007759260686245168,
          -0.08773690089876922,
          0.07405403239807494,
          0.0880422720400802,
          -0.11893170862381579,
          0.24446068152709965,
          -0.5097887690350941,
          -0.12501340515882864,
          -0.12881699011444278,
          -0.27354096745638845,
          0.01073906814661352,
          -0.05561674437235435,
          -0.11078023018526933,
          0.12238859569964099,
          -0.03847835554020447,
          -0.11562560931210973,
          0.01073906814661352,
          -0.11438870695561516,
          0.19071656901308343,
          -0.12501340515882864,
          -0.1219725568913222,
          0.23699728978174658,
          0.08150548564991873,
          -0.12501340515882864,
          0.14649154145205565,
          -0.12379618998397256,
          -0.11893170862381579,
          -0.07894668513779876,
          -0.07408008046388617,
          -0.12501340515882864,
          0.12342369449000021,
          -0.1219725568913222,
          -0.14538050311746417,
          -0.18694304303937512,
          0.24173230087594952,
          -0.28220200224403175,
          -0.12170730584712258,
          0.03079832238394568,
          -0.01080010895375159,
          -0.007397658905128284,
          -0.05561674437235435,
          -0.015299391844788504,
          0.007432968834907462,
          -0.11756195190698486,
          0.349012325470208,
          0.06958071591233249,
          -0.1394650082931775,
          -0.12170730584712258,
          -0.052575896104847926,
          -0.3479922310647295,
          0.08013572893308779,
          -0.0691939966566465,
          -0.204000491650622,
          0.03723707066037968,
          0.16332751939494994,
          0.1925892556807898,
          -0.013597816478362347,
          -0.11866645757961615,
          0.17039169159919548,
          -0.15677830155490344,
          -0.07334906422715665,
          -0.01843761176621851,
          0.022242363459470543,
          -0.1219725568913222,
          0.20676565743601064,
          0.1403165784082017,
          -0.04779547595355863,
          -0.12501340515882864,
          0.18949610995879462,
          -0.05865759263986078,
          -0.31548599898651836,
          0.007698219879107097,
          -0.02860889114193625,
          0.007698219879107097,
          -0.005251947421699,
          0.21422528887666661,
          -0.11011049865514104,
          -0.0508745108975981,
          0.1219115160841841,
          0.019560278115288283,
          0.05283737503199695,
          0.20676565743601064,
          0.33039346442545703,
          -0.06073316467646492,
          -0.12501340515882864,
          -0.05561674437235435,
          -0.0019374872469076156,
          -0.16910961176421968,
          0.15325397594773665,
          0.07069617883317351,
          0.3832854175169995,
          -0.11866645757961615,
          -0.12501340515882864,
          0.14371594422874884,
          -0.20586699087396976,
          -0.02582923273793107,
          0.038279649250096914,
          0.32285285688540394,
          0.1757324487368673,
          -0.11866645757961615,
          0.15227190315322395,
          0.31507300188768717,
          -0.052310645060648295,
          -0.053732884224686056,
          0.08294161981296895,
          0.14649154145205565,
          -0.052575896104847926,
          0.32917009994789964,
          -0.11011049865514104,
          0.013779916414119927,
          0.14461307768890794,
          0.12158788078985934,
          0.21134183022770736,
          0.013779916414119927,
          0.051056420674179356,
          0.0531719201403175,
          -0.12501340515882864,
          0.09336754388609993,
          -0.14470491757101817,
          -0.10873945643885795,
          0.16590188487121904,
          0.1404098449170428,
          0.11437138492564078,
          0.12357662494067051,
          -0.14630944151629807,
          -0.12170730584712258,
          -0.05865759263986078,
          -0.1219725568913222,
          -0.12501340515882864,
          0.1404098449170428,
          -0.44151260100141243,
          0.08352405266240161,
          -0.32667087844130444,
          -0.16622872174489917,
          -0.0053881439488670324,
          -0.015299391844788504,
          0.14278096165442092,
          -0.13572865224942465,
          0.0032249033933646506,
          -0.12501340515882864,
          0.26940356034425833,
          0.007698219879107097,
          0.01073906814661352,
          -0.11893170862381579,
          -0.19077919158787382,
          0.09867085049089645,
          -0.11562560931210973,
          -0.07411507320521304,
          -0.11893170862381579,
          0.22788834499858363,
          -0.30141810806768937,
          0.01073906814661352,
          -0.18790164950243216,
          0.041095503663280034,
          0.11196864225305247,
          -0.05561674437235435,
          -0.22884315268654754,
          0.15531275142073037,
          -0.11893170862381579,
          0.1428689737892897,
          -0.12501340515882864,
          0.07709488066558137,
          -0.07587484266258801,
          0.08833292493423876,
          0.13514333103719622,
          0.009030279858049967,
          0.15227190315322395,
          -0.1321230894261488,
          -0.11893170862381579,
          -0.0585709765738927,
          -0.20290470603146776,
          -0.11562560931210973,
          0.05714070094295515,
          -0.14630944151629807,
          -0.17119099187719047,
          0.14482044990138015,
          0.14649154145205565,
          0.08013572893308779,
          0.20770881819915074,
          -0.3233732049501717,
          -0.12501340515882864,
          0.014045167458319564,
          -0.11866645757961615,
          0.007698219879107097,
          0.01073906814661352,
          0.21615345328272947,
          0.15227190315322395,
          0.16540057245415193,
          -0.1219725568913222,
          0.0794659974029595,
          0.27951517359781747,
          0.14345069318454923,
          0.08013572893308779,
          0.14345069318454923,
          -0.11893170862381579
         ],
         "type": "scatter3d"
        },
        {
         "line": {
          "color": "red"
         },
         "mode": "lines",
         "x": [
          0,
          -0.2902101020409142
         ],
         "y": [
          0,
          0.014052962043816203
         ],
         "z": [
          0,
          0.8784932774565871
         ],
         "type": "scatter3d"
        },
        {
         "line": {
          "color": "red"
         },
         "mode": "lines",
         "x": [
          0,
          -0.40884845653753926
         ],
         "y": [
          0,
          -0.2373630568751316
         ],
         "z": [
          0,
          0.03139152449163441
         ],
         "type": "scatter3d"
        },
        {
         "line": {
          "color": "red"
         },
         "mode": "lines",
         "x": [
          0,
          -0.39385663181388464
         ],
         "y": [
          0,
          -0.1811798888716547
         ],
         "z": [
          0,
          0.05839257604070964
         ],
         "type": "scatter3d"
        },
        {
         "line": {
          "color": "red"
         },
         "mode": "lines",
         "x": [
          0,
          -0.3449248168219304
         ],
         "y": [
          0,
          0.10366907899411364
         ],
         "z": [
          0,
          -0.38498476393814846
         ],
         "type": "scatter3d"
        },
        {
         "line": {
          "color": "red"
         },
         "mode": "lines",
         "x": [
          0,
          -0.2468086868338549
         ],
         "y": [
          0,
          -0.17407033295153687
         ],
         "z": [
          0,
          -0.0437698810350245
         ],
         "type": "scatter3d"
        },
        {
         "line": {
          "color": "red"
         },
         "mode": "lines",
         "x": [
          0,
          -0.4254281161039687
         ],
         "y": [
          0,
          0.8211271642892465
         ],
         "z": [
          0,
          -0.09061434629849771
         ],
         "type": "scatter3d"
        },
        {
         "line": {
          "color": "red"
         },
         "mode": "lines",
         "x": [
          0,
          -0.29139416090478065
         ],
         "y": [
          0,
          -0.028453167267810275
         ],
         "z": [
          0,
          -0.0402581877813084
         ],
         "type": "scatter3d"
        },
        {
         "line": {
          "color": "red"
         },
         "mode": "lines",
         "x": [
          0,
          -0.36471775465658646
         ],
         "y": [
          0,
          -0.419086827210379
         ],
         "z": [
          0,
          -0.244901793934065
         ],
         "type": "scatter3d"
        },
        {
         "line": {
          "color": "red"
         },
         "mode": "lines",
         "x": [
          0,
          -0.12120912976045652
         ],
         "y": [
          0,
          -0.13745621557887014
         ],
         "z": [
          0,
          -0.06258434034173445
         ],
         "type": "scatter3d"
        },
        {
         "mode": "text",
         "text": [
          "Clump_thickness"
         ],
         "textfont": {
          "color": "black",
          "size": 10
         },
         "x": [
          -0.3192311122450056
         ],
         "y": [
          0.015458258248197824
         ],
         "z": [
          0.9663426052022459
         ],
         "type": "scatter3d"
        },
        {
         "mode": "text",
         "text": [
          "Uniformity_of_cell_size"
         ],
         "textfont": {
          "color": "black",
          "size": 10
         },
         "x": [
          -0.4497333021912932
         ],
         "y": [
          -0.26109936256264477
         ],
         "z": [
          0.03453067694079785
         ],
         "type": "scatter3d"
        },
        {
         "mode": "text",
         "text": [
          "Uniformity_of_cell_shape"
         ],
         "textfont": {
          "color": "black",
          "size": 10
         },
         "x": [
          -0.4332422949952731
         ],
         "y": [
          -0.19929787775882019
         ],
         "z": [
          0.0642318336447806
         ],
         "type": "scatter3d"
        },
        {
         "mode": "text",
         "text": [
          "Marginal_adhesion"
         ],
         "textfont": {
          "color": "black",
          "size": 10
         },
         "x": [
          -0.3794172985041234
         ],
         "y": [
          0.11403598689352501
         ],
         "z": [
          -0.42348324033196333
         ],
         "type": "scatter3d"
        },
        {
         "mode": "text",
         "text": [
          "Single_epithelial_cell_size"
         ],
         "textfont": {
          "color": "black",
          "size": 10
         },
         "x": [
          -0.2714895555172404
         ],
         "y": [
          -0.19147736624669057
         ],
         "z": [
          -0.048146869138526956
         ],
         "type": "scatter3d"
        },
        {
         "mode": "text",
         "text": [
          "Bare_nuclei"
         ],
         "textfont": {
          "color": "black",
          "size": 10
         },
         "x": [
          -0.4679709277143656
         ],
         "y": [
          0.9032398807181712
         ],
         "z": [
          -0.09967578092834749
         ],
         "type": "scatter3d"
        },
        {
         "mode": "text",
         "text": [
          "Bland_chromatin"
         ],
         "textfont": {
          "color": "black",
          "size": 10
         },
         "x": [
          -0.32053357699525875
         ],
         "y": [
          -0.03129848399459131
         ],
         "z": [
          -0.044284006559439246
         ],
         "type": "scatter3d"
        },
        {
         "mode": "text",
         "text": [
          "Normal_nucleoli"
         ],
         "textfont": {
          "color": "black",
          "size": 10
         },
         "x": [
          -0.4011895301222451
         ],
         "y": [
          -0.4609955099314169
         ],
         "z": [
          -0.2693919733274715
         ],
         "type": "scatter3d"
        },
        {
         "mode": "text",
         "text": [
          "Mitoses"
         ],
         "textfont": {
          "color": "black",
          "size": 10
         },
         "x": [
          -0.13333004273650217
         ],
         "y": [
          -0.15120183713675717
         ],
         "z": [
          -0.0688427743759079
         ],
         "type": "scatter3d"
        }
       ],
       "layout": {
        "height": 700,
        "scene": {
         "xaxis": {
          "title": {
           "text": "PC1"
          }
         },
         "yaxis": {
          "title": {
           "text": "PC2"
          }
         },
         "zaxis": {
          "title": {
           "text": "PC3"
          }
         }
        },
        "template": {
         "data": {
          "barpolar": [
           {
            "marker": {
             "line": {
              "color": "#E5ECF6",
              "width": 0.5
             },
             "pattern": {
              "fillmode": "overlay",
              "size": 10,
              "solidity": 0.2
             }
            },
            "type": "barpolar"
           }
          ],
          "bar": [
           {
            "error_x": {
             "color": "#2a3f5f"
            },
            "error_y": {
             "color": "#2a3f5f"
            },
            "marker": {
             "line": {
              "color": "#E5ECF6",
              "width": 0.5
             },
             "pattern": {
              "fillmode": "overlay",
              "size": 10,
              "solidity": 0.2
             }
            },
            "type": "bar"
           }
          ],
          "carpet": [
           {
            "aaxis": {
             "endlinecolor": "#2a3f5f",
             "gridcolor": "white",
             "linecolor": "white",
             "minorgridcolor": "white",
             "startlinecolor": "#2a3f5f"
            },
            "baxis": {
             "endlinecolor": "#2a3f5f",
             "gridcolor": "white",
             "linecolor": "white",
             "minorgridcolor": "white",
             "startlinecolor": "#2a3f5f"
            },
            "type": "carpet"
           }
          ],
          "choropleth": [
           {
            "colorbar": {
             "outlinewidth": 0,
             "ticks": ""
            },
            "type": "choropleth"
           }
          ],
          "contourcarpet": [
           {
            "colorbar": {
             "outlinewidth": 0,
             "ticks": ""
            },
            "type": "contourcarpet"
           }
          ],
          "contour": [
           {
            "colorbar": {
             "outlinewidth": 0,
             "ticks": ""
            },
            "colorscale": [
             [
              0.0,
              "#0d0887"
             ],
             [
              0.1111111111111111,
              "#46039f"
             ],
             [
              0.2222222222222222,
              "#7201a8"
             ],
             [
              0.3333333333333333,
              "#9c179e"
             ],
             [
              0.4444444444444444,
              "#bd3786"
             ],
             [
              0.5555555555555556,
              "#d8576b"
             ],
             [
              0.6666666666666666,
              "#ed7953"
             ],
             [
              0.7777777777777778,
              "#fb9f3a"
             ],
             [
              0.8888888888888888,
              "#fdca26"
             ],
             [
              1.0,
              "#f0f921"
             ]
            ],
            "type": "contour"
           }
          ],
          "heatmapgl": [
           {
            "colorbar": {
             "outlinewidth": 0,
             "ticks": ""
            },
            "colorscale": [
             [
              0.0,
              "#0d0887"
             ],
             [
              0.1111111111111111,
              "#46039f"
             ],
             [
              0.2222222222222222,
              "#7201a8"
             ],
             [
              0.3333333333333333,
              "#9c179e"
             ],
             [
              0.4444444444444444,
              "#bd3786"
             ],
             [
              0.5555555555555556,
              "#d8576b"
             ],
             [
              0.6666666666666666,
              "#ed7953"
             ],
             [
              0.7777777777777778,
              "#fb9f3a"
             ],
             [
              0.8888888888888888,
              "#fdca26"
             ],
             [
              1.0,
              "#f0f921"
             ]
            ],
            "type": "heatmapgl"
           }
          ],
          "heatmap": [
           {
            "colorbar": {
             "outlinewidth": 0,
             "ticks": ""
            },
            "colorscale": [
             [
              0.0,
              "#0d0887"
             ],
             [
              0.1111111111111111,
              "#46039f"
             ],
             [
              0.2222222222222222,
              "#7201a8"
             ],
             [
              0.3333333333333333,
              "#9c179e"
             ],
             [
              0.4444444444444444,
              "#bd3786"
             ],
             [
              0.5555555555555556,
              "#d8576b"
             ],
             [
              0.6666666666666666,
              "#ed7953"
             ],
             [
              0.7777777777777778,
              "#fb9f3a"
             ],
             [
              0.8888888888888888,
              "#fdca26"
             ],
             [
              1.0,
              "#f0f921"
             ]
            ],
            "type": "heatmap"
           }
          ],
          "histogram2dcontour": [
           {
            "colorbar": {
             "outlinewidth": 0,
             "ticks": ""
            },
            "colorscale": [
             [
              0.0,
              "#0d0887"
             ],
             [
              0.1111111111111111,
              "#46039f"
             ],
             [
              0.2222222222222222,
              "#7201a8"
             ],
             [
              0.3333333333333333,
              "#9c179e"
             ],
             [
              0.4444444444444444,
              "#bd3786"
             ],
             [
              0.5555555555555556,
              "#d8576b"
             ],
             [
              0.6666666666666666,
              "#ed7953"
             ],
             [
              0.7777777777777778,
              "#fb9f3a"
             ],
             [
              0.8888888888888888,
              "#fdca26"
             ],
             [
              1.0,
              "#f0f921"
             ]
            ],
            "type": "histogram2dcontour"
           }
          ],
          "histogram2d": [
           {
            "colorbar": {
             "outlinewidth": 0,
             "ticks": ""
            },
            "colorscale": [
             [
              0.0,
              "#0d0887"
             ],
             [
              0.1111111111111111,
              "#46039f"
             ],
             [
              0.2222222222222222,
              "#7201a8"
             ],
             [
              0.3333333333333333,
              "#9c179e"
             ],
             [
              0.4444444444444444,
              "#bd3786"
             ],
             [
              0.5555555555555556,
              "#d8576b"
             ],
             [
              0.6666666666666666,
              "#ed7953"
             ],
             [
              0.7777777777777778,
              "#fb9f3a"
             ],
             [
              0.8888888888888888,
              "#fdca26"
             ],
             [
              1.0,
              "#f0f921"
             ]
            ],
            "type": "histogram2d"
           }
          ],
          "histogram": [
           {
            "marker": {
             "pattern": {
              "fillmode": "overlay",
              "size": 10,
              "solidity": 0.2
             }
            },
            "type": "histogram"
           }
          ],
          "mesh3d": [
           {
            "colorbar": {
             "outlinewidth": 0,
             "ticks": ""
            },
            "type": "mesh3d"
           }
          ],
          "parcoords": [
           {
            "line": {
             "colorbar": {
              "outlinewidth": 0,
              "ticks": ""
             }
            },
            "type": "parcoords"
           }
          ],
          "pie": [
           {
            "automargin": true,
            "type": "pie"
           }
          ],
          "scatter3d": [
           {
            "line": {
             "colorbar": {
              "outlinewidth": 0,
              "ticks": ""
             }
            },
            "marker": {
             "colorbar": {
              "outlinewidth": 0,
              "ticks": ""
             }
            },
            "type": "scatter3d"
           }
          ],
          "scattercarpet": [
           {
            "marker": {
             "colorbar": {
              "outlinewidth": 0,
              "ticks": ""
             }
            },
            "type": "scattercarpet"
           }
          ],
          "scattergeo": [
           {
            "marker": {
             "colorbar": {
              "outlinewidth": 0,
              "ticks": ""
             }
            },
            "type": "scattergeo"
           }
          ],
          "scattergl": [
           {
            "marker": {
             "colorbar": {
              "outlinewidth": 0,
              "ticks": ""
             }
            },
            "type": "scattergl"
           }
          ],
          "scattermapbox": [
           {
            "marker": {
             "colorbar": {
              "outlinewidth": 0,
              "ticks": ""
             }
            },
            "type": "scattermapbox"
           }
          ],
          "scatterpolargl": [
           {
            "marker": {
             "colorbar": {
              "outlinewidth": 0,
              "ticks": ""
             }
            },
            "type": "scatterpolargl"
           }
          ],
          "scatterpolar": [
           {
            "marker": {
             "colorbar": {
              "outlinewidth": 0,
              "ticks": ""
             }
            },
            "type": "scatterpolar"
           }
          ],
          "scatter": [
           {
            "fillpattern": {
             "fillmode": "overlay",
             "size": 10,
             "solidity": 0.2
            },
            "type": "scatter"
           }
          ],
          "scatterternary": [
           {
            "marker": {
             "colorbar": {
              "outlinewidth": 0,
              "ticks": ""
             }
            },
            "type": "scatterternary"
           }
          ],
          "surface": [
           {
            "colorbar": {
             "outlinewidth": 0,
             "ticks": ""
            },
            "colorscale": [
             [
              0.0,
              "#0d0887"
             ],
             [
              0.1111111111111111,
              "#46039f"
             ],
             [
              0.2222222222222222,
              "#7201a8"
             ],
             [
              0.3333333333333333,
              "#9c179e"
             ],
             [
              0.4444444444444444,
              "#bd3786"
             ],
             [
              0.5555555555555556,
              "#d8576b"
             ],
             [
              0.6666666666666666,
              "#ed7953"
             ],
             [
              0.7777777777777778,
              "#fb9f3a"
             ],
             [
              0.8888888888888888,
              "#fdca26"
             ],
             [
              1.0,
              "#f0f921"
             ]
            ],
            "type": "surface"
           }
          ],
          "table": [
           {
            "cells": {
             "fill": {
              "color": "#EBF0F8"
             },
             "line": {
              "color": "white"
             }
            },
            "header": {
             "fill": {
              "color": "#C8D4E3"
             },
             "line": {
              "color": "white"
             }
            },
            "type": "table"
           }
          ]
         },
         "layout": {
          "annotationdefaults": {
           "arrowcolor": "#2a3f5f",
           "arrowhead": 0,
           "arrowwidth": 1
          },
          "autotypenumbers": "strict",
          "coloraxis": {
           "colorbar": {
            "outlinewidth": 0,
            "ticks": ""
           }
          },
          "colorscale": {
           "diverging": [
            [
             0,
             "#8e0152"
            ],
            [
             0.1,
             "#c51b7d"
            ],
            [
             0.2,
             "#de77ae"
            ],
            [
             0.3,
             "#f1b6da"
            ],
            [
             0.4,
             "#fde0ef"
            ],
            [
             0.5,
             "#f7f7f7"
            ],
            [
             0.6,
             "#e6f5d0"
            ],
            [
             0.7,
             "#b8e186"
            ],
            [
             0.8,
             "#7fbc41"
            ],
            [
             0.9,
             "#4d9221"
            ],
            [
             1,
             "#276419"
            ]
           ],
           "sequential": [
            [
             0.0,
             "#0d0887"
            ],
            [
             0.1111111111111111,
             "#46039f"
            ],
            [
             0.2222222222222222,
             "#7201a8"
            ],
            [
             0.3333333333333333,
             "#9c179e"
            ],
            [
             0.4444444444444444,
             "#bd3786"
            ],
            [
             0.5555555555555556,
             "#d8576b"
            ],
            [
             0.6666666666666666,
             "#ed7953"
            ],
            [
             0.7777777777777778,
             "#fb9f3a"
            ],
            [
             0.8888888888888888,
             "#fdca26"
            ],
            [
             1.0,
             "#f0f921"
            ]
           ],
           "sequentialminus": [
            [
             0.0,
             "#0d0887"
            ],
            [
             0.1111111111111111,
             "#46039f"
            ],
            [
             0.2222222222222222,
             "#7201a8"
            ],
            [
             0.3333333333333333,
             "#9c179e"
            ],
            [
             0.4444444444444444,
             "#bd3786"
            ],
            [
             0.5555555555555556,
             "#d8576b"
            ],
            [
             0.6666666666666666,
             "#ed7953"
            ],
            [
             0.7777777777777778,
             "#fb9f3a"
            ],
            [
             0.8888888888888888,
             "#fdca26"
            ],
            [
             1.0,
             "#f0f921"
            ]
           ]
          },
          "colorway": [
           "#636efa",
           "#EF553B",
           "#00cc96",
           "#ab63fa",
           "#FFA15A",
           "#19d3f3",
           "#FF6692",
           "#B6E880",
           "#FF97FF",
           "#FECB52"
          ],
          "font": {
           "color": "#2a3f5f"
          },
          "geo": {
           "bgcolor": "white",
           "lakecolor": "white",
           "landcolor": "#E5ECF6",
           "showlakes": true,
           "showland": true,
           "subunitcolor": "white"
          },
          "hoverlabel": {
           "align": "left"
          },
          "hovermode": "closest",
          "mapbox": {
           "style": "light"
          },
          "paper_bgcolor": "white",
          "plot_bgcolor": "#E5ECF6",
          "polar": {
           "angularaxis": {
            "gridcolor": "white",
            "linecolor": "white",
            "ticks": ""
           },
           "bgcolor": "#E5ECF6",
           "radialaxis": {
            "gridcolor": "white",
            "linecolor": "white",
            "ticks": ""
           }
          },
          "scene": {
           "xaxis": {
            "backgroundcolor": "#E5ECF6",
            "gridcolor": "white",
            "gridwidth": 2,
            "linecolor": "white",
            "showbackground": true,
            "ticks": "",
            "zerolinecolor": "white"
           },
           "yaxis": {
            "backgroundcolor": "#E5ECF6",
            "gridcolor": "white",
            "gridwidth": 2,
            "linecolor": "white",
            "showbackground": true,
            "ticks": "",
            "zerolinecolor": "white"
           },
           "zaxis": {
            "backgroundcolor": "#E5ECF6",
            "gridcolor": "white",
            "gridwidth": 2,
            "linecolor": "white",
            "showbackground": true,
            "ticks": "",
            "zerolinecolor": "white"
           }
          },
          "shapedefaults": {
           "line": {
            "color": "#2a3f5f"
           }
          },
          "ternary": {
           "aaxis": {
            "gridcolor": "white",
            "linecolor": "white",
            "ticks": ""
           },
           "baxis": {
            "gridcolor": "white",
            "linecolor": "white",
            "ticks": ""
           },
           "bgcolor": "#E5ECF6",
           "caxis": {
            "gridcolor": "white",
            "linecolor": "white",
            "ticks": ""
           }
          },
          "title": {
           "x": 0.05
          },
          "xaxis": {
           "automargin": true,
           "gridcolor": "white",
           "linecolor": "white",
           "ticks": "",
           "title": {
            "standoff": 15
           },
           "zerolinecolor": "white",
           "zerolinewidth": 2
          },
          "yaxis": {
           "automargin": true,
           "gridcolor": "white",
           "linecolor": "white",
           "ticks": "",
           "title": {
            "standoff": 15
           },
           "zerolinecolor": "white",
           "zerolinewidth": 2
          }
         }
        },
        "title": {
         "text": "3D Biplot"
        },
        "width": 1200
       },
       "config": {
        "showLink": false,
        "linkText": "Export to plot.ly",
        "plotlyServerURL": "https://plot.ly"
       }
      },
      "text/html": "<div>                            <div id=\"48cf2759-ab42-45ef-a6ec-9503f3fad42a\" class=\"plotly-graph-div\" style=\"height:700px; width:1200px;\"></div>            <script type=\"text/javascript\">                require([\"plotly\"], function(Plotly) {                    window.PLOTLYENV=window.PLOTLYENV || {};                                    if (document.getElementById(\"48cf2759-ab42-45ef-a6ec-9503f3fad42a\")) {                    Plotly.newPlot(                        \"48cf2759-ab42-45ef-a6ec-9503f3fad42a\",                        [{\"marker\":{\"color\":[4,2,4,4,2,4,2,4,2,2,4,4,2,2,2,4,2,4,2,2,2,2,2,2,2,2,2,2,4,2,2,4,2,4,2,4,4,4,2,4,4,4,2,4,2,2,4,2,2,2,2,2,2,2,2,2,4,2,2,4,2,4,2,4,2,4,2,2,4,2,2,2,2,2,2,2,2,2,2,4,4,4,2,4,2,4,2,4,2,2,2,2,4,2,4,2,2,2,4,2,4,4,2,2,2,4,4,4,4,2,4,2,2,2,4,4,4,2,2,4,2,2,2,4,4,2,4,2,4,2,2,2,2,2,4,4,2,2,4,2,4,2,4,4,2,4,2,2,4,2,2,4,2,2,2,2,2,2,2,4,2,2,4,2,2,2,4,4,4,4,4,2,4,2,2,2,2,2,4,4,2,4,4,4,2,2,2,4,2,4,4,2,4,2,2,2,2,2,4,2,4,2,2,4,4,2,2,2,4,4,4,2,2,2,2,4,2,4,2,2,2,2,2,2,2,2,2,4,4,4,2,2,2,4,4,2,2,2,2,2,2,2,4,2,4,2,2,2,4,4,2,4,2,2,2,2,4,2,4,2,4,2,2,4,2,2,2,2,2,2,2,2,4,4,2,2,2,4,2,4,2,2,2,2,2,4,4,2,2,4,2,2,4,4,2,4,4,2,2,2,2,2,2,2,2,2,2,2,2,2,2,4,4,2,2,2,2,2,2,4,2,2,2,2,2,2,4,4,2,2,2,2,2,2,4,4,2,2,4,2,2,2,2,4,2,2,4,4,2,2,4,2,2,2,4,2,2,4,2,4,2,2,4,4,4,2,2,2,4,2,2,2,2,4,2,2,2,2,4,2,4,2,4,4,2,2,2,4,4,4,2,2,2,2,4,2,2,4,2,4,2,4,2,2,4,2,2,2,2,2,2,4,2,2,2,4,4,4,4,4,2,2,2,2,4,4,4,4,2,2,4,2,2,2,2,2,4,2,2,4,2,4,2,2,2,2,2,2,4,4,2,2,4,2,2,2,2,2,2,4,4,4,4,2,2,2,2,2,2,4,2,2,2,2,4,2,2,2,4,4,2,4,4,4,2,4,2,2,4,2,2,2,2,2,4,2,2,2,4,4,2,2,2,2,2,2,2,4,4,2,2,2,2,2,2,2,2,2,2,4,2,2,2,2],\"opacity\":0.8,\"size\":5},\"mode\":\"markers\",\"x\":[-0.38566023666037136,0.19859811937349897,-0.5404518839904244,-0.5010902760654726,0.1682305164470413,-0.18705014482137935,-0.20680818605876866,-0.622222287394268,0.20285857487868877,0.19056150394092844,-0.5360744458546862,-0.004999594810470047,0.17614518626574874,-0.2900082634020327,-0.18872312062031707,-0.5987697375135739,0.21741367386971713,-0.5741691046862871,0.22635138576164088,0.1681823947091914,0.19096780422366313,0.2264476292373406,0.19096780422366313,0.17491795222341974,0.1962594791276129,0.12848480807082072,0.18661668914047452,0.17457772419664416,-0.5742202118029219,0.1792213987821871,0.12338359773865516,-0.09796357477449084,0.2500366835959924,-0.21862235879671932,0.07074167063955165,-0.6734612314161854,-0.3892997815346766,-0.29554040771269013,0.23819403467881664,-0.26151499653567134,-0.7084489185128802,-0.5772696686138495,0.19101592596151298,-0.46690534556846075,0.2600673191406684,0.1748221619611486,0.02981924673820959,0.2500366835959924,0.22635138576164088,0.20281045314083893,0.18656856740262467,0.22635138576164088,0.23824215641666652,0.1953954758128428,-0.1352540914823039,0.23819403467881664,-0.45185234836023513,0.19642256183190468,0.20276233140298902,-0.38254027312685124,0.1984112163198004,-0.2984925538629792,0.19859811937349897,-0.6227902821515762,0.24822467022349265,-0.6134603694970885,0.1779571996382485,0.2146049803201648,-0.489382776526727,0.14887270411202377,0.1748221619611486,0.2264476292373406,0.20281045314083893,0.20276233140298902,0.10752297206537602,0.20285857487868877,0.2264476292373406,0.19101592596151298,0.17424717569469983,-0.5083427676067309,-0.24729234548615722,-0.7140444363298261,0.19096780422366313,-0.7311306384131018,0.21284108868551488,-0.3640395213022767,0.22422394995789643,-0.5239192451557103,0.22635138576164088,-0.29545138382434905,0.20235066549604466,0.23819403467881664,-0.10984141262654659,0.17917327704433722,-0.3090123388180917,0.22635138576164088,0.1748221619611486,0.23819403467881664,-0.423355776863981,0.2500366835959924,-0.4658000753646471,-0.24184995359903555,0.19983048410010026,0.17496094327699727,0.2085487987629878,-0.7008856587020144,-0.7399326808593316,-0.6088373393017708,-0.5847753803717295,-0.020468903466877252,-0.6785164895782988,0.23819403467881664,0.2146049803201648,0.1980369532784053,-0.36497163176076114,-0.49982079322427736,-0.4169004213996647,0.20801946708523142,0.12576990650896253,-0.5141891265134396,0.22635138576164088,-0.21181856655177425,0.20457434477548883,-0.1925264749086556,-0.3541481106295604,0.23819403467881664,-0.3690306358087255,0.12273690704016237,-0.3100536304662648,0.14243417702642178,0.23819403467881664,0.2146049803201648,0.17500906501484717,0.18685171393202293,-0.4616738487320452,-0.19929310064122818,0.12945584834285354,0.20285857487868877,-0.4440629478799614,0.2146531020580147,-0.3136869858396695,0.11156479699649387,-0.28845187146225404,-0.058798067009102055,0.1207669379270737,-0.32903979218905577,-0.21215432024937705,0.24000604805131645,-0.44969791677723386,0.2500366835959924,0.2264476292373406,-0.3294997973306676,0.1985499976356491,0.2146049803201648,0.10991716018104229,0.2146531020580147,0.22458749412699094,0.2264476292373406,0.18007316536421708,-0.3089666174162944,0.2246356158648408,0.18702835504741888,-0.2647937209140447,0.17079673124750722,0.16316641609767135,0.20618031278548493,-0.3698757507048938,-0.36487881297260305,-0.16401607291350437,-0.3054446653556986,-0.47946339603076454,0.2500366835959924,-0.3295371660207787,0.1761933080035986,0.20140681292305132,0.23638202130631683,0.16316641609767135,0.22417582822004659,-0.35079546128392175,-0.28424950655066206,0.2162109483301609,-0.5026570027081214,-0.3588986586075229,-0.3463949138450546,0.2221871737321508,0.18685171393202293,0.1819125678902765,-0.40138977788167396,0.2500366835959924,-0.28137957433666466,-0.053490343218087835,0.24822467022349265,-0.24489442314561158,0.19101592596151298,0.2364782647820166,0.2500366835959924,0.2146531020580147,0.2500366835959924,-0.4740549134089089,0.22399918710465058,-0.024465120698963158,0.20281045314083893,0.1325333667586365,-0.5350550119259383,-0.3391564468198148,0.2146531020580147,0.2264476292373406,0.13536502797167962,-0.3592520988687674,-0.0974760468328984,-0.2551440144348146,0.011247766851818547,0.16293139130612297,0.17917327704433722,0.1737259576146142,0.019886986171652594,0.1673787498650113,-0.6136993313375186,0.23824215641666652,0.20285857487868877,0.1322380727816096,0.21284108868551488,0.14769710744126416,0.1690822830290713,0.2146049803201648,0.2500366835959924,0.2146049803201648,-0.34874966774586436,-0.2912473121921817,-0.4925871930150865,0.20053865212354485,0.21233317930287077,0.17842704639734303,-0.27569902761121373,-0.6978177512715739,0.19632631835620493,0.18879224668206881,0.2500366835959924,0.19177144906784327,0.2146049803201648,0.2500366835959924,0.17212797616460956,-0.42084076527384656,0.2500366835959924,-0.6041255999633687,0.07785912555576892,0.23274671524909363,0.18685171393202293,-0.3202602176980339,-0.19193620887089727,0.19096780422366313,-0.5720591917988529,0.046431089748995784,0.2146049803201648,0.23819403467881664,0.17917327704433722,-0.4389862556394251,0.20281045314083893,-0.07983694917844708,0.23824215641666652,-0.0567130753840534,0.2146049803201648,0.21455685858231496,-0.28480894672558027,0.2500366835959924,0.09284734025679299,0.23819403467881664,0.20462246651333868,0.23819403467881664,0.24822467022349265,0.16578820659352517,0.13810176738738716,-0.22965820076414512,-0.08100769845462423,0.16962627731946997,0.2500366835959924,0.20618031278548493,-0.292008798012042,0.23638202130631683,-0.162481291107452,0.2246356158648408,0.19101592596151298,0.20276233140298902,0.20281045314083893,0.20276233140298902,-0.44290810680418774,-0.31098159581613166,0.23824215641666652,0.184959744404336,-0.5812799712942289,0.21152876780372645,0.18547236305609024,-0.2221387788852072,-0.4792513531116585,0.20281045314083893,-0.09812673470544396,-0.4378259886865404,0.18475655403012486,0.2180229617026607,0.19101592596151298,0.1189432362033068,0.2500366835959924,0.1991270253457658,0.2146049803201648,0.2500366835959924,0.21455685858231496,0.2146049803201648,0.18680359219417306,0.20276233140298902,0.23042208322483956,0.23819403467881664,-0.30010109603696433,-0.732350523648038,0.14715955515100554,0.17917327704433722,0.17772151508869977,0.20281045314083893,0.2500366835959924,0.1761933080035986,-0.392532017910972,0.2146531020580147,0.1412984972600293,0.19101592596151298,0.20285857487868877,0.19096780422366313,0.1505288821931981,-0.19460806467053,-0.24774405404682237,-0.06564798886101872,0.1997823623622504,0.20053865212354485,0.19096780422366313,0.0954933732048413,0.2500366835959924,-0.46826168524024436,-0.5063304302191372,0.22635138576164088,0.2209040663319178,-0.3839117531096471,0.2146049803201648,0.22639950749949073,0.18956416400587553,0.0795085218135243,-0.4193778118507586,0.2600673191406684,0.2146049803201648,-0.44686935335741523,-0.2950566792167311,0.22635138576164088,0.23819403467881664,-0.5674063471646804,0.18680359219417306,0.22635138576164088,0.20285857487868877,-0.6880156115013017,0.2500366835959924,0.06937944756285637,-0.2482967243255153,0.22635138576164088,-0.4065630685719787,0.23819403467881664,0.16979159923858453,-0.16627899171560107,-0.1837596975584436,-0.45712537045574503,0.23638202130631683,0.15460296724714281,0.18793971344507462,-0.31603828359508657,0.22639950749949073,0.2124294227785705,0.20457434477548883,0.2221871737321508,-0.1035622256824763,0.15706168709715493,0.19816677855529602,0.23638202130631683,0.23824215641666652,-0.3825028559696321,0.2146531020580147,-0.08936411287587898,0.10355427829693545,-0.5271594599586369,-0.493321707473344,0.1450321193472611,0.1572877558497454,0.24822467022349265,-0.38365368992671306,-0.24432569619601593,-0.42474624538360356,0.11685471443409108,0.18480467576797474,0.23819403467881664,0.1673787498650113,-0.2771835807028569,-0.1201155174140287,0.22635138576164088,-0.43782491348767066,0.21455685858231496,-0.4608071621764891,0.20276233140298902,-0.7250062266823392,0.20276233140298902,0.11089425812298657,-0.2773524053267291,0.2180229617026607,0.19316720994027192,0.1643506590864228,0.18259125842683313,-0.06899951613878233,0.1673787498650113,-0.3346081690248562,0.14459388873201262,0.22635138576164088,0.22639950749949073,-0.11827102729163147,-0.15999107811910782,-0.4894506220280583,-0.08887414876374858,-0.10601661925574814,0.24822467022349265,0.22635138576164088,0.18920391258901323,-0.012901518322359456,-0.25645753676461636,-0.1872105264418705,-0.3104636705391431,-0.41092680258788794,0.24822467022349265,0.1590022040681813,-0.047102026203664,0.23643014304416674,0.042134532041867706,0.1435406590902783,0.20285857487868877,0.23824215641666652,-0.4452830903779053,0.2180229617026607,0.2264476292373406,-0.30576243289848865,0.08987841558834066,-0.2535028809503242,0.2264476292373406,0.2006348955992446,0.13711865766802697,0.22635138576164088,0.16663251921801714,0.2460491126818983,-0.4270390857036402,-0.4100404544074489,0.17917327704433722,0.1769977195027429,-0.38876402048738357,0.18087681020839722,0.23638202130631683,0.21455685858231496,0.23819403467881664,0.22635138576164088,0.17917327704433722,-0.46670520003783755,-0.2677431021710115,-0.5927529480798198,-0.406483260019534,0.18316621358264099,0.2124294227785705,0.16255712826472782,0.19013911916168344,0.16885621427648084,0.22635138576164088,-0.03387039850428228,0.20276233140298902,0.2146049803201648,0.2500366835959924,0.18742033398465463,-0.44290810680418774,0.2600673191406684,0.2115768895415763,0.2500366835959924,-0.0005982854351227538,-0.1435812795762031,0.2146049803201648,-0.35729350954020994,-0.3945718511435193,-0.23658018027680802,0.22639950749949073,-0.48414577938120135,0.1708448529853571,0.2500366835959924,-0.1827901206420842,0.22635138576164088,0.20281045314083893,0.18036757914738896,0.1748221619611486,0.11633007624642526,-0.11094497596084879,0.1590022040681813,0.21087343078724183,0.2500366835959924,-0.36959509883259206,-0.48351000043205977,0.2600673191406684,0.11625297507953067,0.18087681020839722,0.08489394622370278,0.16316641609767135,0.20285857487868877,0.2146531020580147,-0.24654140897295368,-0.3652838464345577,0.22635138576164088,0.2246356158648408,0.24822467022349265,0.20276233140298902,0.2146049803201648,0.20109468324403884,0.1590022040681813,0.14825247880375783,0.23819403467881664,0.18619430436122952,-0.20202683973148594,0.19101592596151298,0.2146531020580147,0.19101592596151298,0.2500366835959924],\"y\":[0.20653908824962547,-0.020282635625331974,-0.26860814976035896,0.10555241397689473,0.0942631870104174,0.36877569191727183,-0.3617661702562046,0.12550797176371536,-0.005462392324262191,-0.0369634036827343,0.11322529937278926,-0.02604109897044791,-0.03601103342793697,0.028078459090122108,0.29373347479998574,-0.5459520264059149,-0.03505779795590496,-0.0803862828013823,-0.012513987262327407,0.09161342727146637,-0.009885874072082681,-0.0072144677844253385,-0.009885874072082681,-0.070237867930871,-0.04506773192013292,-0.09575395799973957,0.006586677742643978,0.1463485408260206,0.19285232200674096,-0.006360076603050067,-0.0038533769080179173,-0.18616178858203206,-0.008966543244588494,0.2993989596122734,0.4481750385690105,0.0262369229032658,-0.4100740450782067,0.2635414569645533,-0.010740265253457946,-0.3303321555361404,-0.13528572891058918,-0.5198241716147851,-0.007236114333131644,-0.008316675062626233,0.0018847049746800165,0.007462715472725556,-0.03905614657007002,-0.008966543244588494,-0.012513987262327407,-0.008112152063213222,0.003936918003692955,-0.012513987262327407,-0.008090505514506916,0.07170629939050512,0.03322850201245045,-0.010740265253457946,-0.3127022451144015,-0.01204635971796865,-0.010761911802164252,0.2844955247740102,0.005710640012562408,0.10972482167104013,-0.020282635625331974,-0.051343132735979825,0.00011098296581056331,-0.12152569116151729,-0.045088559638336016,-0.008988189793294792,-0.06201975084652956,0.006975147628560877,0.007462715472725556,-0.0072144677844253385,-0.008112152063213222,-0.010761911802164252,0.07844728035713767,-0.005462392324262191,-0.0072144677844253385,-0.007236114333131644,-0.017578622816045896,0.08473891479503591,0.3580139171010587,-0.08816577652063938,-0.009885874072082681,-0.05210788094250752,0.0027390961560552884,-0.1692375868369147,-0.0016279516160130501,0.10200757199029668,-0.012513987262327407,0.1294363316907767,-0.014252921844151013,-0.010740265253457946,0.3690167949866176,-0.009009836342001105,0.05522724398155479,-0.012513987262327407,0.007462715472725556,-0.010740265253457946,0.12788696896632315,-0.008966543244588494,0.07715529158646768,0.1519999546732449,-0.03246358941019805,-0.021180319904119855,-0.0629905839651665,-0.04278285193230179,-0.05582744092466288,0.011973101227311798,0.04219913938292727,-0.03231375246934559,-0.08284461049403098,-0.010740265253457946,-0.008988189793294792,-0.02113523893362306,-0.3373878884612434,-0.4792660276170794,0.14849093121132284,-0.012933750453305578,-0.05941862375576456,0.033993033259910356,-0.012513987262327407,-0.2048117773350829,-0.019839438012563305,0.2671989391641813,-0.03491095424949998,-0.010740265253457946,0.24108779728933905,0.015999128948938676,-0.07441779187824711,-0.041972055137534256,-0.010740265253457946,-0.008988189793294792,-0.018530560165168825,-0.016756838156299365,-0.3565743245387574,-0.4344379151771182,-0.058289493979710574,-0.005462392324262191,0.21008727622323248,-0.006338430054343768,0.38555707410828066,-0.026962794219376297,0.3305231602801074,-0.15112121783090257,-0.05018483267110227,0.24285729336566056,0.08182709942243903,-0.019817791463857,0.17171123216757764,-0.008966543244588494,-0.0072144677844253385,0.23643301125944774,-0.022932395364283004,-0.008988189793294792,0.1904413223273581,-0.006338430054343768,-0.0007867013129773265,-0.0072144677844253385,0.09603690901928685,0.2094294123622287,0.001863058425973711,0.010077687784630734,-0.20515557706192056,-0.03070104372728757,-0.02030428217403828,-0.0333291569175323,-0.41711809178086556,-0.20511719093563058,-0.2033070871919287,-0.4639583264526258,0.05723698737954746,-0.008966543244588494,-0.15872256668379328,-0.03336127368898593,-0.04635224378794213,-0.001662739043058897,-0.02030428217403828,-0.004277711354964081,-0.272218408391915,0.2909326157463281,-0.022477908698263792,0.03845862270952592,-0.23693275675021067,0.4131244944236542,-0.022034711085495127,-0.016756838156299365,0.05930987910253577,-0.08392493331008499,-0.008966543244588494,0.2933501111575098,-0.05576792484937032,0.00011098296581056331,0.3794292116818854,-0.007236114333131644,0.0036367804348431646,-0.008966543244588494,-0.006338430054343768,-0.008966543244588494,-0.23205189877390134,-0.031112237295894175,0.03338284647373074,-0.008112152063213222,0.11290840094267775,0.030380609722711005,0.2796711312210833,-0.006338430054343768,-0.0072144677844253385,-0.030722690275993877,-0.2830675708589146,-0.013048001496867545,0.28348296811799584,-0.012375944946626234,0.0030392337249050645,-0.009009836342001105,0.043951555203683663,0.22019610282486102,-0.008133798611919527,0.04307435828250563,-0.008090505514506916,-0.005462392324262191,-0.010072485516894351,0.0027390961560552884,-0.02657693567293596,0.19666017263275437,-0.008988189793294792,-0.008966543244588494,-0.008988189793294792,0.23058113810493353,0.11372889150937306,-0.2686176402031026,-0.005175395633751963,-0.006051433363833541,-0.041097805280536866,0.2024528396564529,-0.38888486687514257,-0.017345879195870717,-0.0016495981647193555,-0.008966543244588494,0.08986135181130323,-0.008988189793294792,-0.008966543244588494,-0.019096166782949658,0.11747858028261268,-0.008966543244588494,-0.14211428731579043,-0.09418928803520821,0.04222112629222682,-0.016756838156299365,0.2591874861188197,0.05974402721870825,-0.009885874072082681,0.009909287116697545,-0.033501722393428246,-0.008988189793294792,-0.010740265253457946,-0.009009836342001105,0.26470224101848433,-0.008112152063213222,-0.26197810383441406,-0.008090505514506916,-0.0373608417867873,-0.008988189793294792,-0.01163794953224583,0.33493575134391923,-0.008966543244588494,0.0073204788951990495,-0.010740265253457946,-0.017189678273612275,-0.010740265253457946,0.00011098296581056331,-0.02038061469875404,0.03333086969917323,-0.23038660971650407,-0.1156767542191828,-0.03505601008282075,-0.008966543244588494,-0.0333291569175323,0.19831218087562408,-0.001662739043058897,0.0716365299684734,0.001863058425973711,-0.007236114333131644,-0.010761911802164252,-0.008112152063213222,-0.010761911802164252,0.08260621970517712,-0.09379324256564846,-0.008090505514506916,-0.06123850850500335,0.05212463584904869,-0.03863914661818169,0.040425757734651055,0.26615618390236256,0.028538352034171148,-0.008112152063213222,0.21926740400210684,0.06044928471144526,0.013014444214091998,-0.03155543490866285,-0.007236114333131644,0.05072536368087065,-0.008966543244588494,0.03312195353312146,-0.008988189793294792,-0.008966543244588494,-0.01163794953224583,-0.008988189793294792,-0.0194065978952504,-0.010761911802164252,-0.05036561373702854,-0.010740265253457946,0.15205767130055872,-0.09041756404407356,-0.03159872800607545,-0.009009836342001105,-0.04989968780568105,-0.008112152063213222,-0.008966543244588494,-0.03336127368898593,-0.021073595531672235,-0.006338430054343768,-0.056515771970841115,-0.007236114333131644,-0.005462392324262191,-0.009885874072082681,0.14195984650524598,0.40580766825091213,0.17535717661343997,-0.15919456009263885,-0.03511334914914908,-0.005175395633751963,-0.009885874072082681,-0.012144813447907438,-0.008966543244588494,-0.5291658119606064,0.026045598247346126,-0.012513987262327407,0.040447404283357365,0.07382758657841737,-0.008988189793294792,-0.00986422752337637,-0.04812596579681159,-0.12646575134675236,0.19572328515319798,0.0018847049746800165,-0.008988189793294792,0.037906282903897734,-0.07924741302525179,-0.012513987262327407,-0.010740265253457946,0.13820965397451018,-0.0194065978952504,-0.012513987262327407,-0.005462392324262191,-0.013298485777670436,-0.008966543244588494,-0.19312702039129986,0.11231974806335199,-0.012513987262327407,0.1544193521846141,-0.010740265253457946,-0.09577652899873654,0.1883203947022287,0.27562361438944055,0.03779485092378531,-0.001662739043058897,-0.016002213921430367,-0.036887071158018536,-0.1150819315175817,-0.00986422752337637,-0.0007519138859314726,-0.019839438012563305,-0.022034711085495127,0.3741364560544429,0.026504986585453354,0.14459646536585746,-0.001662739043058897,-0.008090505514506916,0.21132159078468882,-0.006338430054343768,0.14949234525174743,-0.04882393078906903,-0.02584308089698946,-0.24549614147520907,-0.020712692359761097,0.19753621036283595,0.00011098296581056331,0.3444377416997152,0.40720579676888846,-0.4353507536906539,-0.14051167085135405,0.015664203953043035,-0.010740265253457946,-0.008133798611919527,-0.2806477593001669,-0.035038180234954315,-0.012513987262327407,0.1089207479961676,-0.01163794953224583,0.06590384326541962,-0.010761911802164252,-0.12142814940776767,-0.010761911802164252,0.01422540694006922,0.30319194148292566,-0.03155543490866285,-0.03945784528193493,-0.03513499569785539,-0.03157708145736915,-0.29431133240287005,-0.008133798611919527,-0.1112168183819842,-0.03397284405977162,-0.012513987262327407,-0.00986422752337637,-0.18266888032822484,0.16817064499804238,-0.45548794057223974,0.36734105205117024,-0.09847546506321354,0.00011098296581056331,-0.012513987262327407,0.0018414118772674057,-0.2493678528295064,0.27488098376708725,0.25600253635757103,-0.31220635699338795,-0.27860101175031404,0.00011098296581056331,-0.029825005997205993,-0.1552951398649293,0.0009870206958921338,-0.22412932933049062,-0.059851463873077465,-0.005462392324262191,-0.008090505514506916,0.19712966105751578,-0.03155543490866285,-0.0072144677844253385,0.4207281221954862,-0.06558104008540865,-0.4294681063602684,-0.0072144677844253385,0.00012412384415009785,0.010377825353480523,-0.012513987262327407,-0.040221767550455284,0.008347258873173884,0.14941182310109546,0.05545075012079988,-0.009009836342001105,-0.0007735604346377781,-0.15920795949092317,0.19578413490267277,-0.001662739043058897,-0.01163794953224583,-0.010740265253457946,-0.012513987262327407,-0.009009836342001105,-0.04171811912557086,-0.27851053603266424,0.039315075889191226,-0.28040346624615886,-0.04991015802842836,-0.0007519138859314726,-0.023806645221280395,-0.06645904236787079,0.025628948855371782,-0.012513987262327407,-0.19524489569238884,-0.010761911802164252,-0.008988189793294792,-0.008966543244588494,0.10633390362602987,0.08260621970517712,0.0018847049746800165,-0.03598938687923065,-0.008966543244588494,0.03452353442224014,-0.04731769582142798,-0.008988189793294792,0.09260879751429425,0.24835893680255777,0.23072267939497304,-0.00986422752337637,0.09175353561531543,-0.028051283988336534,-0.008966543244588494,0.2622856306636438,-0.012513987262327407,-0.008112152063213222,-0.025990565288956855,0.007462715472725556,-0.0690183331939669,-0.08634838678769705,-0.029825005997205993,0.02959615606408885,-0.008966543244588494,-0.5518249614309895,0.12157851839638989,0.0018847049746800165,-0.04391238433940465,0.19578413490267277,-0.09145399017779855,-0.02030428217403828,-0.005462392324262191,-0.006338430054343768,0.3383607224046412,0.1138950108415773,-0.012513987262327407,0.001863058425973711,0.00011098296581056331,-0.010761911802164252,-0.008988189793294792,0.00626489362508789,-0.029825005997205993,-0.04329129048038449,-0.010740265253457946,-0.022908960942492514,0.11462317154729783,-0.007236114333131644,-0.006338430054343768,-0.007236114333131658,-0.008966543244588508],\"z\":[0.17167215823792406,0.015149673130950912,-0.0660017216120623,-0.2679513267380923,0.06340601421934024,-0.04276580781042855,-0.2094024807611333,0.09282704832051607,0.14649154145205565,-0.19321753723711324,-0.2229358145903473,0.023589970630333298,0.055555703565216254,0.04944749745749666,-0.04434189437499888,-0.3238775775568494,-0.11214998690210029,0.12923008699354338,-0.12501340515882864,-0.005990646567134032,0.07405403239807494,0.013779916414119927,0.07405403239807494,-0.05775196056520982,-0.13493170309394678,-0.037405430097840434,0.021977112415270922,-0.0067533832552417825,0.16257319394954253,0.20980650570351705,0.22241430668900536,0.16178801713202645,-0.11893170862381579,0.396677029436888,-0.1866133041669138,-0.08436785067638941,-0.18852878592652708,-0.02546083604164729,-0.1219725568913222,-0.2222803372181674,0.05281258814397585,0.06727872102942142,0.14345069318454923,-0.334033676896203,-0.11562560931210973,0.08833292493423876,0.09052721636922843,-0.11893170862381579,-0.12501340515882864,0.07709488066558137,-0.04741954837120334,-0.12501340515882864,-0.052575896104847926,-0.139232773693469,-0.08260090808855339,-0.1219725568913222,-0.1400806336082492,-0.010888786860451112,0.007698219879107097,0.07592099022549566,-0.04437870010369693,-0.06692369400247801,0.015149673130950912,-0.30357067161461004,-0.11866645757961615,0.08988546282054041,0.055290452521016636,0.01073906814661352,0.1638046930309021,0.11480183181686392,0.08833292493423876,0.013779916414119927,0.07709488066558137,0.007698219879107097,-0.05736754136323539,0.14649154145205565,0.013779916414119927,0.14345069318454923,0.13568262063325237,-0.25247223149656406,0.3060683994150225,-0.2914833593480628,0.07405403239807494,-0.016141811337073327,0.0804009799772874,0.35275363672272003,-0.08165520436375637,-0.23650832081607792,-0.12501340515882864,0.056512480608098936,-0.08800215194296881,-0.1219725568913222,0.020990375587747613,0.1404098449170428,-0.2327461890732191,-0.12501340515882864,0.08833292493423876,-0.1219725568913222,-0.5425055253222386,-0.11893170862381579,0.2029564077501415,0.12762483386620924,0.0616374001002291,0.07846463738241231,-0.1589692145570396,0.0005502076934051334,-0.07066477471182893,-0.2407730715959769,-0.01621227168621297,-0.21953376404572342,-0.2823608145455435,-0.1219725568913222,0.01073906814661352,0.08250684567046593,0.10095098465946867,0.10268158774756622,0.12413600676772504,0.016416284195697697,0.15701413662798022,0.012012738708972959,-0.12501340515882864,0.11940833750979929,0.007432968834907462,0.0269017206685693,-0.46652892767621273,-0.1219725568913222,-0.1696798918632906,-0.0022110991541925812,-0.10556200447256568,0.22403968067707636,-0.1219725568913222,0.01073906814661352,0.14786129816888657,0.150902146436393,0.031279237154411575,-0.03345883808583523,-0.03613854375845093,0.14649154145205565,0.11891767087873428,0.08013572893308779,0.10382417831372809,0.06840645513442398,-0.12671601874426727,0.39097980568618973,0.3380117978112192,-0.05632640584840419,0.06777585825179763,-0.12223780793552182,-0.09508783622326537,-0.11893170862381579,0.013779916414119927,0.45749447467776133,-0.05424698765552342,0.01073906814661352,-0.025761209548388026,0.08013572893308779,-0.05535149332815472,0.013779916414119927,0.06644686248684666,0.2740082316020959,0.014045167458319564,0.11767748423734682,0.2695348497583385,0.08591609063425613,0.14482044990138015,-0.11315134692264746,0.13321160292473833,0.21499788187920746,-0.14004350822766698,0.39355255219799296,0.09095212289032713,-0.11893170862381579,-0.04906201923136084,0.12495236435169052,-0.1077393819177629,-0.12170730584712258,0.14482044990138015,-0.15105186515023064,0.2109989794014515,-0.23205269569646966,-0.1098452476109414,-0.04600800623907656,0.06417499365095565,0.136911657858473,-0.11756195190698486,0.150902146436393,-0.18675712972000177,-0.2507981248565127,-0.11893170862381579,-0.0933696976195597,0.39095454386273437,-0.11866645757961615,0.022914208844938725,0.14345069318454923,0.017086015725825972,-0.11893170862381579,0.08013572893308779,-0.11893170862381579,0.25826040950421447,-0.11782720295118446,-0.00929292258418928,0.07709488066558137,-0.0012382725982730777,-0.27014726968451813,-0.3189419594872843,0.08013572893308779,0.013779916414119927,0.21558686740468538,-0.008388905360459957,0.4454841297702775,-0.5375780576389989,0.1428974070242789,0.015895415880258074,0.1404098449170428,0.13660625996142864,0.4461029353692172,0.20676565743601064,-0.010407838011779197,-0.052575896104847926,0.14649154145205565,0.09656875402820485,0.0804009799772874,-0.09830328477467652,-0.0799536289973302,0.01073906814661352,-0.11893170862381579,0.01073906814661352,-0.15965195934759993,0.15543440932565392,-0.21805420079323104,-0.08773690089876922,-0.1540927134177371,0.027011731367132065,0.10190625742087833,-0.0789876271503398,-0.1496821084333997,0.04801557240667293,-0.11893170862381579,-0.13870227160506976,0.01073906814661352,-0.11893170862381579,-0.019009971642423202,0.23232422230629107,-0.11893170862381579,-0.08005222092460385,0.15177169472139906,-0.12577614184693636,0.150902146436393,0.02798518578684652,0.3298628699447092,0.07405403239807494,-0.20644134239919748,0.3276979638613981,0.01073906814661352,-0.1219725568913222,0.1404098449170428,0.265028497919371,0.07709488066558137,0.0599903440426708,-0.052575896104847926,0.14000095331247323,0.01073906814661352,-0.05865759263986078,0.3304357678557491,-0.11893170862381579,0.027694762615034188,-0.1219725568913222,0.07682962962138175,-0.1219725568913222,-0.11866645757961615,-0.03759697838198142,-0.011309606414039162,-0.017947051606751065,-0.28058534488675785,0.15123377492681186,-0.11893170862381579,-0.11315134692264746,0.17541527879963342,-0.12170730584712258,-0.23895823722649845,0.014045167458319564,0.14345069318454923,0.007698219879107097,0.07709488066558137,0.007698219879107097,0.09867085049089645,-0.191715069337873,-0.052575896104847926,-0.02625758951910386,0.05573761419192578,-0.14351173399168732,0.0008537866559865325,0.31949741471290877,0.16633894703146762,0.07709488066558137,-0.06080159630649204,-0.2877684811562539,-0.04715429732700372,-0.11011049865514104,0.14345069318454923,0.0031621918919596116,-0.11893170862381579,0.0036293838792933043,0.01073906814661352,-0.11893170862381579,-0.05865759263986078,0.01073906814661352,0.08150548564991873,0.007698219879107097,-0.15262226697782713,-0.1219725568913222,0.009986745505422133,-0.1663412085380863,0.14923105488571756,0.1404098449170428,-0.11382107845277575,0.07709488066558137,-0.11893170862381579,0.12495236435169052,0.3555121057671439,0.08013572893308779,-0.03309769549094451,0.14345069318454923,0.14649154145205565,0.07405403239807494,-0.03913879082585627,0.30589887631671914,-0.015464596529078799,0.26714143584502087,-0.007759260686245168,-0.08773690089876922,0.07405403239807494,0.0880422720400802,-0.11893170862381579,0.24446068152709965,-0.5097887690350941,-0.12501340515882864,-0.12881699011444278,-0.27354096745638845,0.01073906814661352,-0.05561674437235435,-0.11078023018526933,0.12238859569964099,-0.03847835554020447,-0.11562560931210973,0.01073906814661352,-0.11438870695561516,0.19071656901308343,-0.12501340515882864,-0.1219725568913222,0.23699728978174658,0.08150548564991873,-0.12501340515882864,0.14649154145205565,-0.12379618998397256,-0.11893170862381579,-0.07894668513779876,-0.07408008046388617,-0.12501340515882864,0.12342369449000021,-0.1219725568913222,-0.14538050311746417,-0.18694304303937512,0.24173230087594952,-0.28220200224403175,-0.12170730584712258,0.03079832238394568,-0.01080010895375159,-0.007397658905128284,-0.05561674437235435,-0.015299391844788504,0.007432968834907462,-0.11756195190698486,0.349012325470208,0.06958071591233249,-0.1394650082931775,-0.12170730584712258,-0.052575896104847926,-0.3479922310647295,0.08013572893308779,-0.0691939966566465,-0.204000491650622,0.03723707066037968,0.16332751939494994,0.1925892556807898,-0.013597816478362347,-0.11866645757961615,0.17039169159919548,-0.15677830155490344,-0.07334906422715665,-0.01843761176621851,0.022242363459470543,-0.1219725568913222,0.20676565743601064,0.1403165784082017,-0.04779547595355863,-0.12501340515882864,0.18949610995879462,-0.05865759263986078,-0.31548599898651836,0.007698219879107097,-0.02860889114193625,0.007698219879107097,-0.005251947421699,0.21422528887666661,-0.11011049865514104,-0.0508745108975981,0.1219115160841841,0.019560278115288283,0.05283737503199695,0.20676565743601064,0.33039346442545703,-0.06073316467646492,-0.12501340515882864,-0.05561674437235435,-0.0019374872469076156,-0.16910961176421968,0.15325397594773665,0.07069617883317351,0.3832854175169995,-0.11866645757961615,-0.12501340515882864,0.14371594422874884,-0.20586699087396976,-0.02582923273793107,0.038279649250096914,0.32285285688540394,0.1757324487368673,-0.11866645757961615,0.15227190315322395,0.31507300188768717,-0.052310645060648295,-0.053732884224686056,0.08294161981296895,0.14649154145205565,-0.052575896104847926,0.32917009994789964,-0.11011049865514104,0.013779916414119927,0.14461307768890794,0.12158788078985934,0.21134183022770736,0.013779916414119927,0.051056420674179356,0.0531719201403175,-0.12501340515882864,0.09336754388609993,-0.14470491757101817,-0.10873945643885795,0.16590188487121904,0.1404098449170428,0.11437138492564078,0.12357662494067051,-0.14630944151629807,-0.12170730584712258,-0.05865759263986078,-0.1219725568913222,-0.12501340515882864,0.1404098449170428,-0.44151260100141243,0.08352405266240161,-0.32667087844130444,-0.16622872174489917,-0.0053881439488670324,-0.015299391844788504,0.14278096165442092,-0.13572865224942465,0.0032249033933646506,-0.12501340515882864,0.26940356034425833,0.007698219879107097,0.01073906814661352,-0.11893170862381579,-0.19077919158787382,0.09867085049089645,-0.11562560931210973,-0.07411507320521304,-0.11893170862381579,0.22788834499858363,-0.30141810806768937,0.01073906814661352,-0.18790164950243216,0.041095503663280034,0.11196864225305247,-0.05561674437235435,-0.22884315268654754,0.15531275142073037,-0.11893170862381579,0.1428689737892897,-0.12501340515882864,0.07709488066558137,-0.07587484266258801,0.08833292493423876,0.13514333103719622,0.009030279858049967,0.15227190315322395,-0.1321230894261488,-0.11893170862381579,-0.0585709765738927,-0.20290470603146776,-0.11562560931210973,0.05714070094295515,-0.14630944151629807,-0.17119099187719047,0.14482044990138015,0.14649154145205565,0.08013572893308779,0.20770881819915074,-0.3233732049501717,-0.12501340515882864,0.014045167458319564,-0.11866645757961615,0.007698219879107097,0.01073906814661352,0.21615345328272947,0.15227190315322395,0.16540057245415193,-0.1219725568913222,0.0794659974029595,0.27951517359781747,0.14345069318454923,0.08013572893308779,0.14345069318454923,-0.11893170862381579],\"type\":\"scatter3d\"},{\"line\":{\"color\":\"red\"},\"mode\":\"lines\",\"x\":[0,-0.2902101020409142],\"y\":[0,0.014052962043816203],\"z\":[0,0.8784932774565871],\"type\":\"scatter3d\"},{\"line\":{\"color\":\"red\"},\"mode\":\"lines\",\"x\":[0,-0.40884845653753926],\"y\":[0,-0.2373630568751316],\"z\":[0,0.03139152449163441],\"type\":\"scatter3d\"},{\"line\":{\"color\":\"red\"},\"mode\":\"lines\",\"x\":[0,-0.39385663181388464],\"y\":[0,-0.1811798888716547],\"z\":[0,0.05839257604070964],\"type\":\"scatter3d\"},{\"line\":{\"color\":\"red\"},\"mode\":\"lines\",\"x\":[0,-0.3449248168219304],\"y\":[0,0.10366907899411364],\"z\":[0,-0.38498476393814846],\"type\":\"scatter3d\"},{\"line\":{\"color\":\"red\"},\"mode\":\"lines\",\"x\":[0,-0.2468086868338549],\"y\":[0,-0.17407033295153687],\"z\":[0,-0.0437698810350245],\"type\":\"scatter3d\"},{\"line\":{\"color\":\"red\"},\"mode\":\"lines\",\"x\":[0,-0.4254281161039687],\"y\":[0,0.8211271642892465],\"z\":[0,-0.09061434629849771],\"type\":\"scatter3d\"},{\"line\":{\"color\":\"red\"},\"mode\":\"lines\",\"x\":[0,-0.29139416090478065],\"y\":[0,-0.028453167267810275],\"z\":[0,-0.0402581877813084],\"type\":\"scatter3d\"},{\"line\":{\"color\":\"red\"},\"mode\":\"lines\",\"x\":[0,-0.36471775465658646],\"y\":[0,-0.419086827210379],\"z\":[0,-0.244901793934065],\"type\":\"scatter3d\"},{\"line\":{\"color\":\"red\"},\"mode\":\"lines\",\"x\":[0,-0.12120912976045652],\"y\":[0,-0.13745621557887014],\"z\":[0,-0.06258434034173445],\"type\":\"scatter3d\"},{\"mode\":\"text\",\"text\":[\"Clump_thickness\"],\"textfont\":{\"color\":\"black\",\"size\":10},\"x\":[-0.3192311122450056],\"y\":[0.015458258248197824],\"z\":[0.9663426052022459],\"type\":\"scatter3d\"},{\"mode\":\"text\",\"text\":[\"Uniformity_of_cell_size\"],\"textfont\":{\"color\":\"black\",\"size\":10},\"x\":[-0.4497333021912932],\"y\":[-0.26109936256264477],\"z\":[0.03453067694079785],\"type\":\"scatter3d\"},{\"mode\":\"text\",\"text\":[\"Uniformity_of_cell_shape\"],\"textfont\":{\"color\":\"black\",\"size\":10},\"x\":[-0.4332422949952731],\"y\":[-0.19929787775882019],\"z\":[0.0642318336447806],\"type\":\"scatter3d\"},{\"mode\":\"text\",\"text\":[\"Marginal_adhesion\"],\"textfont\":{\"color\":\"black\",\"size\":10},\"x\":[-0.3794172985041234],\"y\":[0.11403598689352501],\"z\":[-0.42348324033196333],\"type\":\"scatter3d\"},{\"mode\":\"text\",\"text\":[\"Single_epithelial_cell_size\"],\"textfont\":{\"color\":\"black\",\"size\":10},\"x\":[-0.2714895555172404],\"y\":[-0.19147736624669057],\"z\":[-0.048146869138526956],\"type\":\"scatter3d\"},{\"mode\":\"text\",\"text\":[\"Bare_nuclei\"],\"textfont\":{\"color\":\"black\",\"size\":10},\"x\":[-0.4679709277143656],\"y\":[0.9032398807181712],\"z\":[-0.09967578092834749],\"type\":\"scatter3d\"},{\"mode\":\"text\",\"text\":[\"Bland_chromatin\"],\"textfont\":{\"color\":\"black\",\"size\":10},\"x\":[-0.32053357699525875],\"y\":[-0.03129848399459131],\"z\":[-0.044284006559439246],\"type\":\"scatter3d\"},{\"mode\":\"text\",\"text\":[\"Normal_nucleoli\"],\"textfont\":{\"color\":\"black\",\"size\":10},\"x\":[-0.4011895301222451],\"y\":[-0.4609955099314169],\"z\":[-0.2693919733274715],\"type\":\"scatter3d\"},{\"mode\":\"text\",\"text\":[\"Mitoses\"],\"textfont\":{\"color\":\"black\",\"size\":10},\"x\":[-0.13333004273650217],\"y\":[-0.15120183713675717],\"z\":[-0.0688427743759079],\"type\":\"scatter3d\"}],                        {\"height\":700,\"scene\":{\"xaxis\":{\"title\":{\"text\":\"PC1\"}},\"yaxis\":{\"title\":{\"text\":\"PC2\"}},\"zaxis\":{\"title\":{\"text\":\"PC3\"}}},\"template\":{\"data\":{\"barpolar\":[{\"marker\":{\"line\":{\"color\":\"#E5ECF6\",\"width\":0.5},\"pattern\":{\"fillmode\":\"overlay\",\"size\":10,\"solidity\":0.2}},\"type\":\"barpolar\"}],\"bar\":[{\"error_x\":{\"color\":\"#2a3f5f\"},\"error_y\":{\"color\":\"#2a3f5f\"},\"marker\":{\"line\":{\"color\":\"#E5ECF6\",\"width\":0.5},\"pattern\":{\"fillmode\":\"overlay\",\"size\":10,\"solidity\":0.2}},\"type\":\"bar\"}],\"carpet\":[{\"aaxis\":{\"endlinecolor\":\"#2a3f5f\",\"gridcolor\":\"white\",\"linecolor\":\"white\",\"minorgridcolor\":\"white\",\"startlinecolor\":\"#2a3f5f\"},\"baxis\":{\"endlinecolor\":\"#2a3f5f\",\"gridcolor\":\"white\",\"linecolor\":\"white\",\"minorgridcolor\":\"white\",\"startlinecolor\":\"#2a3f5f\"},\"type\":\"carpet\"}],\"choropleth\":[{\"colorbar\":{\"outlinewidth\":0,\"ticks\":\"\"},\"type\":\"choropleth\"}],\"contourcarpet\":[{\"colorbar\":{\"outlinewidth\":0,\"ticks\":\"\"},\"type\":\"contourcarpet\"}],\"contour\":[{\"colorbar\":{\"outlinewidth\":0,\"ticks\":\"\"},\"colorscale\":[[0.0,\"#0d0887\"],[0.1111111111111111,\"#46039f\"],[0.2222222222222222,\"#7201a8\"],[0.3333333333333333,\"#9c179e\"],[0.4444444444444444,\"#bd3786\"],[0.5555555555555556,\"#d8576b\"],[0.6666666666666666,\"#ed7953\"],[0.7777777777777778,\"#fb9f3a\"],[0.8888888888888888,\"#fdca26\"],[1.0,\"#f0f921\"]],\"type\":\"contour\"}],\"heatmapgl\":[{\"colorbar\":{\"outlinewidth\":0,\"ticks\":\"\"},\"colorscale\":[[0.0,\"#0d0887\"],[0.1111111111111111,\"#46039f\"],[0.2222222222222222,\"#7201a8\"],[0.3333333333333333,\"#9c179e\"],[0.4444444444444444,\"#bd3786\"],[0.5555555555555556,\"#d8576b\"],[0.6666666666666666,\"#ed7953\"],[0.7777777777777778,\"#fb9f3a\"],[0.8888888888888888,\"#fdca26\"],[1.0,\"#f0f921\"]],\"type\":\"heatmapgl\"}],\"heatmap\":[{\"colorbar\":{\"outlinewidth\":0,\"ticks\":\"\"},\"colorscale\":[[0.0,\"#0d0887\"],[0.1111111111111111,\"#46039f\"],[0.2222222222222222,\"#7201a8\"],[0.3333333333333333,\"#9c179e\"],[0.4444444444444444,\"#bd3786\"],[0.5555555555555556,\"#d8576b\"],[0.6666666666666666,\"#ed7953\"],[0.7777777777777778,\"#fb9f3a\"],[0.8888888888888888,\"#fdca26\"],[1.0,\"#f0f921\"]],\"type\":\"heatmap\"}],\"histogram2dcontour\":[{\"colorbar\":{\"outlinewidth\":0,\"ticks\":\"\"},\"colorscale\":[[0.0,\"#0d0887\"],[0.1111111111111111,\"#46039f\"],[0.2222222222222222,\"#7201a8\"],[0.3333333333333333,\"#9c179e\"],[0.4444444444444444,\"#bd3786\"],[0.5555555555555556,\"#d8576b\"],[0.6666666666666666,\"#ed7953\"],[0.7777777777777778,\"#fb9f3a\"],[0.8888888888888888,\"#fdca26\"],[1.0,\"#f0f921\"]],\"type\":\"histogram2dcontour\"}],\"histogram2d\":[{\"colorbar\":{\"outlinewidth\":0,\"ticks\":\"\"},\"colorscale\":[[0.0,\"#0d0887\"],[0.1111111111111111,\"#46039f\"],[0.2222222222222222,\"#7201a8\"],[0.3333333333333333,\"#9c179e\"],[0.4444444444444444,\"#bd3786\"],[0.5555555555555556,\"#d8576b\"],[0.6666666666666666,\"#ed7953\"],[0.7777777777777778,\"#fb9f3a\"],[0.8888888888888888,\"#fdca26\"],[1.0,\"#f0f921\"]],\"type\":\"histogram2d\"}],\"histogram\":[{\"marker\":{\"pattern\":{\"fillmode\":\"overlay\",\"size\":10,\"solidity\":0.2}},\"type\":\"histogram\"}],\"mesh3d\":[{\"colorbar\":{\"outlinewidth\":0,\"ticks\":\"\"},\"type\":\"mesh3d\"}],\"parcoords\":[{\"line\":{\"colorbar\":{\"outlinewidth\":0,\"ticks\":\"\"}},\"type\":\"parcoords\"}],\"pie\":[{\"automargin\":true,\"type\":\"pie\"}],\"scatter3d\":[{\"line\":{\"colorbar\":{\"outlinewidth\":0,\"ticks\":\"\"}},\"marker\":{\"colorbar\":{\"outlinewidth\":0,\"ticks\":\"\"}},\"type\":\"scatter3d\"}],\"scattercarpet\":[{\"marker\":{\"colorbar\":{\"outlinewidth\":0,\"ticks\":\"\"}},\"type\":\"scattercarpet\"}],\"scattergeo\":[{\"marker\":{\"colorbar\":{\"outlinewidth\":0,\"ticks\":\"\"}},\"type\":\"scattergeo\"}],\"scattergl\":[{\"marker\":{\"colorbar\":{\"outlinewidth\":0,\"ticks\":\"\"}},\"type\":\"scattergl\"}],\"scattermapbox\":[{\"marker\":{\"colorbar\":{\"outlinewidth\":0,\"ticks\":\"\"}},\"type\":\"scattermapbox\"}],\"scatterpolargl\":[{\"marker\":{\"colorbar\":{\"outlinewidth\":0,\"ticks\":\"\"}},\"type\":\"scatterpolargl\"}],\"scatterpolar\":[{\"marker\":{\"colorbar\":{\"outlinewidth\":0,\"ticks\":\"\"}},\"type\":\"scatterpolar\"}],\"scatter\":[{\"fillpattern\":{\"fillmode\":\"overlay\",\"size\":10,\"solidity\":0.2},\"type\":\"scatter\"}],\"scatterternary\":[{\"marker\":{\"colorbar\":{\"outlinewidth\":0,\"ticks\":\"\"}},\"type\":\"scatterternary\"}],\"surface\":[{\"colorbar\":{\"outlinewidth\":0,\"ticks\":\"\"},\"colorscale\":[[0.0,\"#0d0887\"],[0.1111111111111111,\"#46039f\"],[0.2222222222222222,\"#7201a8\"],[0.3333333333333333,\"#9c179e\"],[0.4444444444444444,\"#bd3786\"],[0.5555555555555556,\"#d8576b\"],[0.6666666666666666,\"#ed7953\"],[0.7777777777777778,\"#fb9f3a\"],[0.8888888888888888,\"#fdca26\"],[1.0,\"#f0f921\"]],\"type\":\"surface\"}],\"table\":[{\"cells\":{\"fill\":{\"color\":\"#EBF0F8\"},\"line\":{\"color\":\"white\"}},\"header\":{\"fill\":{\"color\":\"#C8D4E3\"},\"line\":{\"color\":\"white\"}},\"type\":\"table\"}]},\"layout\":{\"annotationdefaults\":{\"arrowcolor\":\"#2a3f5f\",\"arrowhead\":0,\"arrowwidth\":1},\"autotypenumbers\":\"strict\",\"coloraxis\":{\"colorbar\":{\"outlinewidth\":0,\"ticks\":\"\"}},\"colorscale\":{\"diverging\":[[0,\"#8e0152\"],[0.1,\"#c51b7d\"],[0.2,\"#de77ae\"],[0.3,\"#f1b6da\"],[0.4,\"#fde0ef\"],[0.5,\"#f7f7f7\"],[0.6,\"#e6f5d0\"],[0.7,\"#b8e186\"],[0.8,\"#7fbc41\"],[0.9,\"#4d9221\"],[1,\"#276419\"]],\"sequential\":[[0.0,\"#0d0887\"],[0.1111111111111111,\"#46039f\"],[0.2222222222222222,\"#7201a8\"],[0.3333333333333333,\"#9c179e\"],[0.4444444444444444,\"#bd3786\"],[0.5555555555555556,\"#d8576b\"],[0.6666666666666666,\"#ed7953\"],[0.7777777777777778,\"#fb9f3a\"],[0.8888888888888888,\"#fdca26\"],[1.0,\"#f0f921\"]],\"sequentialminus\":[[0.0,\"#0d0887\"],[0.1111111111111111,\"#46039f\"],[0.2222222222222222,\"#7201a8\"],[0.3333333333333333,\"#9c179e\"],[0.4444444444444444,\"#bd3786\"],[0.5555555555555556,\"#d8576b\"],[0.6666666666666666,\"#ed7953\"],[0.7777777777777778,\"#fb9f3a\"],[0.8888888888888888,\"#fdca26\"],[1.0,\"#f0f921\"]]},\"colorway\":[\"#636efa\",\"#EF553B\",\"#00cc96\",\"#ab63fa\",\"#FFA15A\",\"#19d3f3\",\"#FF6692\",\"#B6E880\",\"#FF97FF\",\"#FECB52\"],\"font\":{\"color\":\"#2a3f5f\"},\"geo\":{\"bgcolor\":\"white\",\"lakecolor\":\"white\",\"landcolor\":\"#E5ECF6\",\"showlakes\":true,\"showland\":true,\"subunitcolor\":\"white\"},\"hoverlabel\":{\"align\":\"left\"},\"hovermode\":\"closest\",\"mapbox\":{\"style\":\"light\"},\"paper_bgcolor\":\"white\",\"plot_bgcolor\":\"#E5ECF6\",\"polar\":{\"angularaxis\":{\"gridcolor\":\"white\",\"linecolor\":\"white\",\"ticks\":\"\"},\"bgcolor\":\"#E5ECF6\",\"radialaxis\":{\"gridcolor\":\"white\",\"linecolor\":\"white\",\"ticks\":\"\"}},\"scene\":{\"xaxis\":{\"backgroundcolor\":\"#E5ECF6\",\"gridcolor\":\"white\",\"gridwidth\":2,\"linecolor\":\"white\",\"showbackground\":true,\"ticks\":\"\",\"zerolinecolor\":\"white\"},\"yaxis\":{\"backgroundcolor\":\"#E5ECF6\",\"gridcolor\":\"white\",\"gridwidth\":2,\"linecolor\":\"white\",\"showbackground\":true,\"ticks\":\"\",\"zerolinecolor\":\"white\"},\"zaxis\":{\"backgroundcolor\":\"#E5ECF6\",\"gridcolor\":\"white\",\"gridwidth\":2,\"linecolor\":\"white\",\"showbackground\":true,\"ticks\":\"\",\"zerolinecolor\":\"white\"}},\"shapedefaults\":{\"line\":{\"color\":\"#2a3f5f\"}},\"ternary\":{\"aaxis\":{\"gridcolor\":\"white\",\"linecolor\":\"white\",\"ticks\":\"\"},\"baxis\":{\"gridcolor\":\"white\",\"linecolor\":\"white\",\"ticks\":\"\"},\"bgcolor\":\"#E5ECF6\",\"caxis\":{\"gridcolor\":\"white\",\"linecolor\":\"white\",\"ticks\":\"\"}},\"title\":{\"x\":0.05},\"xaxis\":{\"automargin\":true,\"gridcolor\":\"white\",\"linecolor\":\"white\",\"ticks\":\"\",\"title\":{\"standoff\":15},\"zerolinecolor\":\"white\",\"zerolinewidth\":2},\"yaxis\":{\"automargin\":true,\"gridcolor\":\"white\",\"linecolor\":\"white\",\"ticks\":\"\",\"title\":{\"standoff\":15},\"zerolinecolor\":\"white\",\"zerolinewidth\":2}}},\"title\":{\"text\":\"3D Biplot\"},\"width\":1200},                        {\"responsive\": true}                    ).then(function(){\n                            \nvar gd = document.getElementById('48cf2759-ab42-45ef-a6ec-9503f3fad42a');\nvar x = new MutationObserver(function (mutations, observer) {{\n        var display = window.getComputedStyle(gd).display;\n        if (!display || display === 'none') {{\n            console.log([gd, 'removed!']);\n            Plotly.purge(gd);\n            observer.disconnect();\n        }}\n}});\n\n// Listen for the removal of the full notebook cells\nvar notebookContainer = gd.closest('#notebook-container');\nif (notebookContainer) {{\n    x.observe(notebookContainer, {childList: true});\n}}\n\n// Listen for the clearing of the current output cell\nvar outputEl = gd.closest('.output');\nif (outputEl) {{\n    x.observe(outputEl, {childList: true});\n}}\n\n                        })                };                });            </script>        </div>"
     },
     "metadata": {},
     "output_type": "display_data"
    }
   ],
   "source": [
    "pca.biplot_3D(X_train, y_train, PC=(0,1,2), width=1200, height=700)"
   ]
  },
  {
   "cell_type": "markdown",
   "metadata": {
    "collapsed": false,
    "jupyter": {
     "outputs_hidden": false
    }
   },
   "source": [
    "# References\n",
    "----"
   ]
  },
  {
   "cell_type": "markdown",
   "metadata": {
    "collapsed": false,
    "jupyter": {
     "outputs_hidden": false
    }
   },
   "source": [
    "[1] Taskesen, E. 2020. pca: A Python Package for Principal Component Analysis. [online] GitHub. Available at: https://github.com/erdogant/pca/ [Accessed 29 Dec. 2023]."
   ]
  },
  {
   "cell_type": "markdown",
   "metadata": {
    "collapsed": false,
    "jupyter": {
     "outputs_hidden": false
    }
   },
   "source": [
    "[2] Garrahan JP, Gillman E, Mair JF. 2023. Machine Learning in Science Part 1 (PHYS4035) Lecture Notes.\n",
    "‌"
   ]
  },
  {
   "cell_type": "markdown",
   "metadata": {
    "collapsed": false,
    "jupyter": {
     "outputs_hidden": false
    }
   },
   "source": [
    "[3] Springer Series in Statistics 2002. Choosing a Subset of Principal Components or Variables. In: Principal Component Analysis. Springer, New York, NY. https://doi.org/10.1007/0-387-22440-8_6"
   ]
  }
 ],
 "metadata": {
  "kernelspec": {
   "display_name": "Python 3 (ipykernel)",
   "language": "python",
   "name": "python3"
  },
  "language_info": {
   "codemirror_mode": {
    "name": "ipython",
    "version": 3
   },
   "file_extension": ".py",
   "mimetype": "text/x-python",
   "name": "python",
   "nbconvert_exporter": "python",
   "pygments_lexer": "ipython3",
   "version": "3.11.5"
  }
 },
 "nbformat": 4,
 "nbformat_minor": 4
}
